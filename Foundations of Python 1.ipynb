{
  "cells": [
    {
      "cell_type": "markdown",
      "metadata": {
        "id": "view-in-github",
        "colab_type": "text"
      },
      "source": [
        "<a href=\"https://colab.research.google.com/github/bhagyalakshmic/Foundations-of-Python-1/blob/master/Foundations%20of%20Python%201.ipynb\" target=\"_parent\"><img src=\"https://colab.research.google.com/assets/colab-badge.svg\" alt=\"Open In Colab\"/></a>"
      ]
    },
    {
      "cell_type": "markdown",
      "source": [
        "### **Please use the following sign-in form to fill your details**\n",
        "**[Sign-in Form](https://forms.office.com/r/K8m4siMZ56)**"
      ],
      "metadata": {
        "id": "e4yzAYHZ_eT0"
      }
    },
    {
      "cell_type": "markdown",
      "metadata": {
        "id": "flzC3gXsJby4"
      },
      "source": [
        "# Objectives\n",
        "\n",
        "\n",
        "* **Foundations of Python 1**<br>\n",
        "\n",
        "* **Hands-on**\n",
        " * Syntax\n",
        " * Strings\n",
        " * Lists\n",
        " * Dictionaries\n",
        " * Sets <br>\n",
        "\n",
        "* **Future Topics**<br>\n",
        "\n",
        "* **Resources**"
      ]
    },
    {
      "cell_type": "markdown",
      "metadata": {
        "id": "2F2ZYWa-Jby8"
      },
      "source": [
        "# Introduction\n",
        "* Developed in early 90’s by **Guido Van Rossum**\n",
        "\n",
        "### What is Python\n",
        "* General purpose, \n",
        " * *High Level*\n",
        " * *Structured*\n",
        " * *Interpreted*\n",
        " * *Object-oriented Language*\n",
        "\n",
        "* Simple, Portable, Open source & Powerful\n",
        "\n",
        "### Ways to run Python\n",
        "* Interactive Interpreter (Classic command line interpreter or Python Shell) - Run as a calculator or used to run a python program\n",
        "* Script from command line - Used to run a python program\n",
        "* General purpose Integrated Development Environment (IDE) - Eclipse, Netbeans, etc\n",
        "* Python dedicated IDEs like Pycharm, Spyder, IDLE\n",
        "* Web-based interactive computational environment like Jupyter Notebooks, Google Colaboratory, etc"
      ]
    },
    {
      "cell_type": "markdown",
      "metadata": {
        "id": "kfTgkZkLJby_"
      },
      "source": [
        "# Variables and Data Types\n",
        "\n",
        "### Variables\n",
        "* Stores a piece of data and gives it a specific name\n",
        "* Do not need to specify data type (No Declaration needed)\n",
        "* Equal sign **( = )** is used to assign values to variables"
      ]
    },
    {
      "cell_type": "code",
      "execution_count": null,
      "metadata": {
        "id": "NwPQCHCjJbzA"
      },
      "outputs": [],
      "source": [
        "v = 98"
      ]
    },
    {
      "cell_type": "markdown",
      "metadata": {
        "id": "NXtNn68IJbzC"
      },
      "source": [
        "**' v '** is the variable name\n",
        "<br>\n",
        "**' = '** is the assignment operator\n",
        "<br>\n",
        "**98** is the value\n",
        "\n",
        "#### Variable names\n",
        "* No spaces allowed (Use underscore or init caps, example - 'my_name' or 'myName')\n",
        "* No special symbols or characters like '\"@#%^&()-/\\* except the underscore '_'\n",
        "* Cannot begin with a number but may have a number within the variable name\n",
        "* The python community by convention begin variable names with small letters but caps are allowed anywhere else"
      ]
    },
    {
      "cell_type": "code",
      "execution_count": 2,
      "metadata": {
        "id": "q6J2lkC5JbzD"
      },
      "outputs": [],
      "source": [
        "my_name = 'John Smith'"
      ]
    },
    {
      "cell_type": "code",
      "execution_count": 3,
      "metadata": {
        "collapsed": true,
        "id": "Vf379bm0JbzE"
      },
      "outputs": [],
      "source": [
        "v_1 = 8\n",
        "v_2 = 9"
      ]
    },
    {
      "cell_type": "markdown",
      "metadata": {
        "id": "ShelRFFaJbzF"
      },
      "source": [
        "#### Using a variable\n",
        "To use a variable, just type out the variable name. \n",
        "<br>\n",
        "See examples below"
      ]
    },
    {
      "cell_type": "code",
      "execution_count": 4,
      "metadata": {
        "collapsed": true,
        "id": "hpZCMlK_JbzF",
        "outputId": "841b821c-9a79-416e-f9b1-e0caa9d413c2",
        "colab": {
          "base_uri": "https://localhost:8080/"
        }
      },
      "outputs": [
        {
          "output_type": "stream",
          "name": "stdout",
          "text": [
            "John Smith\n"
          ]
        }
      ],
      "source": [
        "print(my_name)"
      ]
    },
    {
      "cell_type": "code",
      "execution_count": 5,
      "metadata": {
        "collapsed": true,
        "id": "WeBvi3jOJbzG"
      },
      "outputs": [],
      "source": [
        "age = v_1 + v_2"
      ]
    },
    {
      "cell_type": "code",
      "execution_count": 6,
      "metadata": {
        "collapsed": true,
        "id": "95KLYm_KJbzG",
        "outputId": "9b08397e-8347-4e22-bf80-6e0137f3fd5d",
        "colab": {
          "base_uri": "https://localhost:8080/"
        }
      },
      "outputs": [
        {
          "output_type": "stream",
          "name": "stdout",
          "text": [
            "I am 17 years old\n"
          ]
        }
      ],
      "source": [
        "print ('I am', age, 'years old')"
      ]
    },
    {
      "cell_type": "markdown",
      "metadata": {
        "id": "XAjGLtSDJbzH"
      },
      "source": [
        "**<h5><center>Note</center></h5>**\n",
        "\n",
        "\n",
        "**'print'** is a function that displays its arguments (inputs). It can take multiple arguments (inputs) separated by commas '**,**'.\n",
        "<br>\n",
        "We will introduce **functions** later"
      ]
    },
    {
      "cell_type": "markdown",
      "metadata": {
        "id": "lJgYIiVzJbzH"
      },
      "source": [
        "### Data types\n",
        "Data Types are implied. They do not have to be declared\n",
        "* Numeric types - int, float, complex\n",
        "* Boolean - True, False\n",
        "* String\n",
        "* List\n",
        "* Tuple\n",
        "* Dictionary\n",
        "* Set "
      ]
    },
    {
      "cell_type": "markdown",
      "metadata": {
        "id": "9hNbCDmNJbzH"
      },
      "source": [
        "# Math Operators"
      ]
    },
    {
      "cell_type": "markdown",
      "metadata": {
        "id": "0vocR7k6JbzI"
      },
      "source": [
        "#### Addition ( + )"
      ]
    },
    {
      "cell_type": "code",
      "execution_count": 7,
      "metadata": {
        "collapsed": true,
        "id": "s77kKUCyJbzI",
        "outputId": "41d4cd60-259c-4652-bfe1-abef7cfb14b6",
        "colab": {
          "base_uri": "https://localhost:8080/"
        }
      },
      "outputs": [
        {
          "output_type": "execute_result",
          "data": {
            "text/plain": [
              "5"
            ]
          },
          "metadata": {},
          "execution_count": 7
        }
      ],
      "source": [
        "2+3"
      ]
    },
    {
      "cell_type": "markdown",
      "metadata": {
        "id": "x98C0uC3JbzI"
      },
      "source": [
        "#### Subtraction ( - )"
      ]
    },
    {
      "cell_type": "code",
      "execution_count": 8,
      "metadata": {
        "collapsed": true,
        "id": "yZa-N9Q-JbzI",
        "outputId": "5bbc2cd8-26c5-47ad-a699-e22cb4a0fb8d",
        "colab": {
          "base_uri": "https://localhost:8080/"
        }
      },
      "outputs": [
        {
          "output_type": "execute_result",
          "data": {
            "text/plain": [
              "6"
            ]
          },
          "metadata": {},
          "execution_count": 8
        }
      ],
      "source": [
        "9-3"
      ]
    },
    {
      "cell_type": "markdown",
      "metadata": {
        "id": "0au2KheqJbzJ"
      },
      "source": [
        "#### Multiplication ( * )"
      ]
    },
    {
      "cell_type": "code",
      "execution_count": 9,
      "metadata": {
        "collapsed": true,
        "id": "nyvHVkphJbzJ",
        "outputId": "df5f2d61-550a-4311-b140-b0fd3d7659a2",
        "colab": {
          "base_uri": "https://localhost:8080/"
        }
      },
      "outputs": [
        {
          "output_type": "execute_result",
          "data": {
            "text/plain": [
              "24"
            ]
          },
          "metadata": {},
          "execution_count": 9
        }
      ],
      "source": [
        "3*8"
      ]
    },
    {
      "cell_type": "markdown",
      "metadata": {
        "id": "z4xILHRdJbzJ"
      },
      "source": [
        "#### Division( / )"
      ]
    },
    {
      "cell_type": "code",
      "execution_count": 10,
      "metadata": {
        "collapsed": true,
        "id": "7d9fu8JmJbzJ",
        "outputId": "f2d80250-4273-4136-b5e5-0f8b7d57fcdd",
        "colab": {
          "base_uri": "https://localhost:8080/"
        }
      },
      "outputs": [
        {
          "output_type": "execute_result",
          "data": {
            "text/plain": [
              "1.5"
            ]
          },
          "metadata": {},
          "execution_count": 10
        }
      ],
      "source": [
        "3/2"
      ]
    },
    {
      "cell_type": "markdown",
      "metadata": {
        "id": "0azByzdXJbzK"
      },
      "source": [
        "#### Floor Division ( // )"
      ]
    },
    {
      "cell_type": "code",
      "execution_count": 11,
      "metadata": {
        "collapsed": true,
        "id": "TsU9Cxs0JbzK",
        "outputId": "68ffa1c2-4b84-46ec-9714-1b719d47e874",
        "colab": {
          "base_uri": "https://localhost:8080/"
        }
      },
      "outputs": [
        {
          "output_type": "execute_result",
          "data": {
            "text/plain": [
              "1"
            ]
          },
          "metadata": {},
          "execution_count": 11
        }
      ],
      "source": [
        "3//2"
      ]
    },
    {
      "cell_type": "markdown",
      "metadata": {
        "id": "xlUt5OldJbzK"
      },
      "source": [
        "#### Modulus( % )"
      ]
    },
    {
      "cell_type": "code",
      "execution_count": 12,
      "metadata": {
        "collapsed": true,
        "id": "rhuRy1AIJbzK",
        "outputId": "194658e6-5fd9-42b6-faae-1a4e9bbb0e56",
        "colab": {
          "base_uri": "https://localhost:8080/"
        }
      },
      "outputs": [
        {
          "output_type": "execute_result",
          "data": {
            "text/plain": [
              "4"
            ]
          },
          "metadata": {},
          "execution_count": 12
        }
      ],
      "source": [
        "9%5"
      ]
    },
    {
      "cell_type": "markdown",
      "metadata": {
        "id": "Untu_IipJbzK"
      },
      "source": [
        "#### Exponent( ** )"
      ]
    },
    {
      "cell_type": "code",
      "execution_count": 13,
      "metadata": {
        "collapsed": true,
        "id": "H-1WTNieJbzK",
        "outputId": "15eb20f3-4257-4fb1-da18-f34815dd4cb5",
        "colab": {
          "base_uri": "https://localhost:8080/"
        }
      },
      "outputs": [
        {
          "output_type": "execute_result",
          "data": {
            "text/plain": [
              "8"
            ]
          },
          "metadata": {},
          "execution_count": 13
        }
      ],
      "source": [
        "2**3"
      ]
    },
    {
      "cell_type": "markdown",
      "metadata": {
        "id": "od8pPtXZJbzL"
      },
      "source": [
        "# Comments\n",
        "* Single line commenting symbol is the hash symbol '#'\n",
        "* The interpreter ignores everything after #\n",
        "* Leave comments in your code to make it understandable to other team members and for yourself"
      ]
    },
    {
      "cell_type": "code",
      "execution_count": 14,
      "metadata": {
        "collapsed": true,
        "id": "m5gAjgxVJbzL"
      },
      "outputs": [],
      "source": [
        "# This line is ignored"
      ]
    },
    {
      "cell_type": "markdown",
      "metadata": {
        "id": "sBI2YYy_JbzL"
      },
      "source": [
        "* Multi-line - Not supported in Python\n",
        "* Use the # on each line of a multiline comment"
      ]
    },
    {
      "cell_type": "code",
      "execution_count": 15,
      "metadata": {
        "collapsed": true,
        "id": "8W6owQ1MJbzL"
      },
      "outputs": [],
      "source": [
        "# This is a multiline comment\n",
        "# This line and the line above are both ignored by the interpreter"
      ]
    },
    {
      "cell_type": "markdown",
      "metadata": {
        "id": "Sgc3ZLqYJbzL"
      },
      "source": [
        "# Exercise 1\n",
        "#### Tip Calculator!!\n",
        "Cost of meal = 54.76\n",
        "<br>\n",
        "Tax = 7.85%\n",
        "<br>\n",
        "Tip = 15%\n",
        "<br>\n",
        "Find the tax amount, cost after the tax, tip amount, and total cost"
      ]
    },
    {
      "cell_type": "code",
      "execution_count": 16,
      "metadata": {
        "collapsed": true,
        "id": "g4Cxt7YlJbzL",
        "outputId": "8ccca4ac-30c7-4e98-dd04-65bf01948f37",
        "colab": {
          "base_uri": "https://localhost:8080/"
        }
      },
      "outputs": [
        {
          "output_type": "stream",
          "name": "stdout",
          "text": [
            "My original meal cost is 54.76\n",
            "My tax amount is 4.29866\n",
            "My cost after tax is 59.058659999999996\n",
            "My tip amount is 8.858799\n",
            "The total cost of the meal is 67.917459\n"
          ]
        }
      ],
      "source": [
        "# Create a variable for cost of meal, tax and tip and assign their values\n",
        "# Note that percentage is not captured in programming languages. Divide by 100 instead. \n",
        "cost_of_meal = 54.76\n",
        "Tax = 0.0785\n",
        "Tip = 0.15\n",
        "\n",
        "\n",
        "\n",
        "# Calculate tax amount by creating a variable for it and assign it to a formula using the variables for cost of meal and tax\n",
        "Tax_amount = Tax*cost_of_meal\n",
        "\n",
        "# Calculate cost after tax\n",
        "cost_after_tax = cost_of_meal+Tax_amount\n",
        "\n",
        "# Calculate tip amount\n",
        "# Hint: Calculate the tip amount the cost after tax\n",
        "Tip_amount = cost_after_tax*Tip\n",
        "\n",
        "# Calculate total amount\n",
        "Total_amount=cost_after_tax+Tip_amount\n",
        "\n",
        "print('My original meal cost is', cost_of_meal)\n",
        "\n",
        "# Follow the example above and print the tax amount\n",
        "print('My tax amount is', Tax_amount)\n",
        "\n",
        "# Print the cost after tax\n",
        "print('My cost after tax is', cost_after_tax)\n",
        "\n",
        "# Print the tip amount\n",
        "print('My tip amount is', Tip_amount)\n",
        "\n",
        "# Print the total cost of the meal\n",
        "\n",
        "print('The total cost of the meal is', Total_amount)"
      ]
    },
    {
      "cell_type": "markdown",
      "metadata": {
        "id": "LqLwpXewJbzM"
      },
      "source": [
        "# Strings\n",
        "Any strand of all characters on the keyboard put in quotation.\n",
        "#### One line strings - declared in single quotes (' ') or double quotes (\" \")\n",
        "Single and double quotes can be used interchangeably"
      ]
    },
    {
      "cell_type": "code",
      "execution_count": 17,
      "metadata": {
        "collapsed": true,
        "id": "ooEaiaP0JbzM"
      },
      "outputs": [],
      "source": [
        "name_1 = 'John Wick'\n",
        "name_2 = \"Dag Heward-Mills\""
      ]
    },
    {
      "cell_type": "code",
      "execution_count": 18,
      "metadata": {
        "collapsed": true,
        "id": "ITSgJV5pJbzM"
      },
      "outputs": [],
      "source": [
        "# this is a string and not an integer\n",
        "age = '2'"
      ]
    },
    {
      "cell_type": "code",
      "execution_count": 19,
      "metadata": {
        "collapsed": true,
        "id": "TdFySTyTJbzM"
      },
      "outputs": [],
      "source": [
        "# Start with a double quote if you use a single quote in your string\n",
        "f = \"This is Del's pencil\""
      ]
    },
    {
      "cell_type": "code",
      "execution_count": 20,
      "metadata": {
        "collapsed": true,
        "id": "uKzilGVSJbzN"
      },
      "outputs": [],
      "source": [
        "# Start with a single quote if you use a double quote in your string\n",
        "f = 'Francis said \"This is my pencil\"'"
      ]
    },
    {
      "cell_type": "code",
      "execution_count": 21,
      "metadata": {
        "collapsed": true,
        "id": "jusFlW0CJbzN",
        "outputId": "1a4367a8-e938-4376-c9a8-948bf2151003",
        "colab": {
          "base_uri": "https://localhost:8080/"
        }
      },
      "outputs": [
        {
          "output_type": "stream",
          "name": "stdout",
          "text": [
            "Francis said \"This is my pencil\"\n"
          ]
        }
      ],
      "source": [
        "print (f)"
      ]
    },
    {
      "cell_type": "markdown",
      "metadata": {
        "id": "ZZMmcko0JbzN"
      },
      "source": [
        "#### Multi-line strings - declared in triple quotes ( \"\"\" \"\"\" or ''' ''' )"
      ]
    },
    {
      "cell_type": "code",
      "execution_count": 22,
      "metadata": {
        "collapsed": true,
        "id": "ta_VgcdEJbzN"
      },
      "outputs": [],
      "source": [
        "eg = \"\"\"I am in the CEAS library in \n",
        "Introduction to Python session \"\"\""
      ]
    },
    {
      "cell_type": "code",
      "execution_count": 23,
      "metadata": {
        "collapsed": true,
        "id": "iWiB6TZfJbzO",
        "outputId": "5be2b809-3a31-49a7-fb2c-e89c2ead5e3b",
        "colab": {
          "base_uri": "https://localhost:8080/"
        }
      },
      "outputs": [
        {
          "output_type": "stream",
          "name": "stdout",
          "text": [
            "I am in the CEAS library in \n",
            "Introduction to Python session \n"
          ]
        }
      ],
      "source": [
        "print(eg)"
      ]
    },
    {
      "cell_type": "markdown",
      "metadata": {
        "id": "m-2FaICeJbzP"
      },
      "source": [
        "### String Indexing\n",
        "**Each character can be accessed by using their index starting from index 0**"
      ]
    },
    {
      "cell_type": "code",
      "execution_count": 24,
      "metadata": {
        "collapsed": true,
        "id": "s72_bPatJbzR"
      },
      "outputs": [],
      "source": [
        "name = 'Johnson Smith'"
      ]
    },
    {
      "cell_type": "code",
      "execution_count": 25,
      "metadata": {
        "collapsed": true,
        "id": "OWe6ConAJbzS",
        "outputId": "f2a175cb-35ed-4379-b364-b6a5987e81cf",
        "colab": {
          "base_uri": "https://localhost:8080/",
          "height": 36
        }
      },
      "outputs": [
        {
          "output_type": "execute_result",
          "data": {
            "text/plain": [
              "'J'"
            ],
            "application/vnd.google.colaboratory.intrinsic+json": {
              "type": "string"
            }
          },
          "metadata": {},
          "execution_count": 25
        }
      ],
      "source": [
        "name[0]"
      ]
    },
    {
      "cell_type": "code",
      "execution_count": 26,
      "metadata": {
        "collapsed": true,
        "id": "HzLXgB_AJbzS",
        "outputId": "f2c35612-b4e0-44de-a6cd-bbf9a1e0dd5b",
        "colab": {
          "base_uri": "https://localhost:8080/",
          "height": 36
        }
      },
      "outputs": [
        {
          "output_type": "execute_result",
          "data": {
            "text/plain": [
              "'o'"
            ],
            "application/vnd.google.colaboratory.intrinsic+json": {
              "type": "string"
            }
          },
          "metadata": {},
          "execution_count": 26
        }
      ],
      "source": [
        "name[1]"
      ]
    },
    {
      "cell_type": "code",
      "execution_count": 27,
      "metadata": {
        "collapsed": true,
        "id": "fpYQDY0dJbzS",
        "outputId": "c752b79a-e766-4ecd-b484-49d7ae32256f",
        "colab": {
          "base_uri": "https://localhost:8080/",
          "height": 36
        }
      },
      "outputs": [
        {
          "output_type": "execute_result",
          "data": {
            "text/plain": [
              "'n'"
            ],
            "application/vnd.google.colaboratory.intrinsic+json": {
              "type": "string"
            }
          },
          "metadata": {},
          "execution_count": 27
        }
      ],
      "source": [
        "name[6]"
      ]
    },
    {
      "cell_type": "code",
      "execution_count": 28,
      "metadata": {
        "collapsed": true,
        "id": "V4L_cT3-JbzT",
        "outputId": "7997a4a1-30d6-46a1-ce9a-8406f78ceac8",
        "colab": {
          "base_uri": "https://localhost:8080/",
          "height": 36
        }
      },
      "outputs": [
        {
          "output_type": "execute_result",
          "data": {
            "text/plain": [
              "'h'"
            ],
            "application/vnd.google.colaboratory.intrinsic+json": {
              "type": "string"
            }
          },
          "metadata": {},
          "execution_count": 28
        }
      ],
      "source": [
        "name[12]"
      ]
    },
    {
      "cell_type": "markdown",
      "metadata": {
        "id": "KcCb940cJbzT"
      },
      "source": [
        "**You can start indexing from the right side with negative indexes starting with index -1**"
      ]
    },
    {
      "cell_type": "code",
      "execution_count": 29,
      "metadata": {
        "collapsed": true,
        "id": "mbIIXAGcJbzT",
        "outputId": "e8410b32-014e-4c5a-9197-f9730497320d",
        "colab": {
          "base_uri": "https://localhost:8080/",
          "height": 36
        }
      },
      "outputs": [
        {
          "output_type": "execute_result",
          "data": {
            "text/plain": [
              "'h'"
            ],
            "application/vnd.google.colaboratory.intrinsic+json": {
              "type": "string"
            }
          },
          "metadata": {},
          "execution_count": 29
        }
      ],
      "source": [
        "name[-1]"
      ]
    },
    {
      "cell_type": "code",
      "execution_count": 30,
      "metadata": {
        "collapsed": true,
        "id": "WuOfTkJTJbzT",
        "outputId": "ae934f2c-0c09-461c-eece-d7c696465a19",
        "colab": {
          "base_uri": "https://localhost:8080/",
          "height": 36
        }
      },
      "outputs": [
        {
          "output_type": "execute_result",
          "data": {
            "text/plain": [
              "'t'"
            ],
            "application/vnd.google.colaboratory.intrinsic+json": {
              "type": "string"
            }
          },
          "metadata": {},
          "execution_count": 30
        }
      ],
      "source": [
        "name[-2]"
      ]
    },
    {
      "cell_type": "code",
      "execution_count": 31,
      "metadata": {
        "collapsed": true,
        "id": "TkqDQS_mJbzT",
        "outputId": "1e279822-7f4c-4beb-ec05-fe3833074e78",
        "colab": {
          "base_uri": "https://localhost:8080/",
          "height": 36
        }
      },
      "outputs": [
        {
          "output_type": "execute_result",
          "data": {
            "text/plain": [
              "'J'"
            ],
            "application/vnd.google.colaboratory.intrinsic+json": {
              "type": "string"
            }
          },
          "metadata": {},
          "execution_count": 31
        }
      ],
      "source": [
        "name[-13]"
      ]
    },
    {
      "cell_type": "markdown",
      "metadata": {
        "id": "90x7fnlIJbzT"
      },
      "source": [
        "### Slicing\n",
        "**You can extract a range of characters**\n",
        "<br>\n",
        "Assume a string variable called **'var'**\n",
        "<br>\n",
        "**var[starting index : ending index + 1]**"
      ]
    },
    {
      "cell_type": "code",
      "execution_count": 32,
      "metadata": {
        "collapsed": true,
        "id": "_k-KMpMYJbzU",
        "outputId": "f522af43-4838-4910-a51a-74a1c9f7556e",
        "colab": {
          "base_uri": "https://localhost:8080/",
          "height": 36
        }
      },
      "outputs": [
        {
          "output_type": "execute_result",
          "data": {
            "text/plain": [
              "'Johnson Smith'"
            ],
            "application/vnd.google.colaboratory.intrinsic+json": {
              "type": "string"
            }
          },
          "metadata": {},
          "execution_count": 32
        }
      ],
      "source": [
        "name"
      ]
    },
    {
      "cell_type": "code",
      "execution_count": 33,
      "metadata": {
        "collapsed": true,
        "id": "eXJpG5EjJbzU",
        "outputId": "8cdde79f-e629-4eb9-ca6f-4b6866b2ed1c",
        "colab": {
          "base_uri": "https://localhost:8080/",
          "height": 36
        }
      },
      "outputs": [
        {
          "output_type": "execute_result",
          "data": {
            "text/plain": [
              "'Johnso'"
            ],
            "application/vnd.google.colaboratory.intrinsic+json": {
              "type": "string"
            }
          },
          "metadata": {},
          "execution_count": 33
        }
      ],
      "source": [
        "name[0:6]"
      ]
    },
    {
      "cell_type": "code",
      "execution_count": 34,
      "metadata": {
        "collapsed": true,
        "id": "OQtOJutEJbzU",
        "outputId": "37f199f3-e141-48ff-8678-7b7d4a40d7ff",
        "colab": {
          "base_uri": "https://localhost:8080/",
          "height": 36
        }
      },
      "outputs": [
        {
          "output_type": "execute_result",
          "data": {
            "text/plain": [
              "' Smith'"
            ],
            "application/vnd.google.colaboratory.intrinsic+json": {
              "type": "string"
            }
          },
          "metadata": {},
          "execution_count": 34
        }
      ],
      "source": [
        "name[7:13]"
      ]
    },
    {
      "cell_type": "code",
      "execution_count": 35,
      "metadata": {
        "collapsed": true,
        "id": "GypGTqPDJbzU",
        "outputId": "d1342c46-a351-471e-c30b-15d2650e27d5",
        "colab": {
          "base_uri": "https://localhost:8080/",
          "height": 36
        }
      },
      "outputs": [
        {
          "output_type": "execute_result",
          "data": {
            "text/plain": [
              "'ohn'"
            ],
            "application/vnd.google.colaboratory.intrinsic+json": {
              "type": "string"
            }
          },
          "metadata": {},
          "execution_count": 35
        }
      ],
      "source": [
        "name[1:4]"
      ]
    },
    {
      "cell_type": "markdown",
      "metadata": {
        "id": "Ako9162jJbzU"
      },
      "source": [
        "**<h5><center>Note</center></h5>**\n",
        "\n",
        "**Strings are \"IMMUTABLE\"**\n",
        "Once you create a string object, you cannot change a particular string location.\n",
        "<br>\n",
        "**name[6] = 'c'** \n",
        "<br>\n",
        "will result in the error below\n",
        "\n",
        "TypeError                                 Traceback (most recent call last)\n",
        "<br>\n",
        "< ipython-input-44-d47a2608aba2 > in < module >()\n",
        "<br>\n",
        "----> 1 name[6]='-'\n",
        "<br>\n",
        "TypeError: 'str' object does not support item assignment\n"
      ]
    },
    {
      "cell_type": "code",
      "source": [
        "name[6] = 'c'"
      ],
      "metadata": {
        "id": "OpCNU-MSYEp7",
        "outputId": "69ab8e3d-22c2-40ab-8fb1-3be50f1bd17b",
        "colab": {
          "base_uri": "https://localhost:8080/",
          "height": 165
        }
      },
      "execution_count": 36,
      "outputs": [
        {
          "output_type": "error",
          "ename": "TypeError",
          "evalue": "ignored",
          "traceback": [
            "\u001b[0;31m---------------------------------------------------------------------------\u001b[0m",
            "\u001b[0;31mTypeError\u001b[0m                                 Traceback (most recent call last)",
            "\u001b[0;32m<ipython-input-36-846be37dfe75>\u001b[0m in \u001b[0;36m<cell line: 1>\u001b[0;34m()\u001b[0m\n\u001b[0;32m----> 1\u001b[0;31m \u001b[0mname\u001b[0m\u001b[0;34m[\u001b[0m\u001b[0;36m6\u001b[0m\u001b[0;34m]\u001b[0m \u001b[0;34m=\u001b[0m \u001b[0;34m'c'\u001b[0m\u001b[0;34m\u001b[0m\u001b[0;34m\u001b[0m\u001b[0m\n\u001b[0m",
            "\u001b[0;31mTypeError\u001b[0m: 'str' object does not support item assignment"
          ]
        }
      ]
    },
    {
      "cell_type": "markdown",
      "metadata": {
        "id": "VFFrbkSbJbzU"
      },
      "source": [
        "### Some String Functions and Methods\n",
        "\n",
        "**Length of string**"
      ]
    },
    {
      "cell_type": "code",
      "execution_count": 37,
      "metadata": {
        "collapsed": true,
        "id": "eXXI-Sz0JbzU",
        "outputId": "883f6f37-4aa7-4a08-a803-ebd204198c2d",
        "colab": {
          "base_uri": "https://localhost:8080/"
        }
      },
      "outputs": [
        {
          "output_type": "execute_result",
          "data": {
            "text/plain": [
              "13"
            ]
          },
          "metadata": {},
          "execution_count": 37
        }
      ],
      "source": [
        "len(name)"
      ]
    },
    {
      "cell_type": "markdown",
      "metadata": {
        "id": "r6TkmPasJbzV"
      },
      "source": [
        "**Convert to string**"
      ]
    },
    {
      "cell_type": "code",
      "execution_count": 38,
      "metadata": {
        "collapsed": true,
        "id": "VrBKRYOpJbzV"
      },
      "outputs": [],
      "source": [
        "age = 3"
      ]
    },
    {
      "cell_type": "code",
      "execution_count": 39,
      "metadata": {
        "collapsed": true,
        "id": "KgiOJoXeJbzV",
        "outputId": "cfc290bc-64c2-4283-b15b-24b89976a1df",
        "colab": {
          "base_uri": "https://localhost:8080/",
          "height": 36
        }
      },
      "outputs": [
        {
          "output_type": "execute_result",
          "data": {
            "text/plain": [
              "'3'"
            ],
            "application/vnd.google.colaboratory.intrinsic+json": {
              "type": "string"
            }
          },
          "metadata": {},
          "execution_count": 39
        }
      ],
      "source": [
        "str(age)"
      ]
    },
    {
      "cell_type": "markdown",
      "metadata": {
        "id": "Q1083YjaJbzV"
      },
      "source": [
        "**Convert to lower case**"
      ]
    },
    {
      "cell_type": "code",
      "execution_count": 40,
      "metadata": {
        "collapsed": true,
        "id": "0iMxtIk3JbzV",
        "outputId": "7896b462-1890-46d4-eff1-b71c69473b3a",
        "colab": {
          "base_uri": "https://localhost:8080/",
          "height": 36
        }
      },
      "outputs": [
        {
          "output_type": "execute_result",
          "data": {
            "text/plain": [
              "'johnson smith'"
            ],
            "application/vnd.google.colaboratory.intrinsic+json": {
              "type": "string"
            }
          },
          "metadata": {},
          "execution_count": 40
        }
      ],
      "source": [
        "name.lower()"
      ]
    },
    {
      "cell_type": "markdown",
      "metadata": {
        "id": "J8d9uFvDJbzV"
      },
      "source": [
        "Convert to upper case"
      ]
    },
    {
      "cell_type": "code",
      "execution_count": 41,
      "metadata": {
        "collapsed": true,
        "id": "QXVx-UBKJbzV",
        "outputId": "6d989177-7993-4dd7-ec16-553c6ff47010",
        "colab": {
          "base_uri": "https://localhost:8080/",
          "height": 36
        }
      },
      "outputs": [
        {
          "output_type": "execute_result",
          "data": {
            "text/plain": [
              "'JOHNSON SMITH'"
            ],
            "application/vnd.google.colaboratory.intrinsic+json": {
              "type": "string"
            }
          },
          "metadata": {},
          "execution_count": 41
        }
      ],
      "source": [
        "name.upper()"
      ]
    },
    {
      "cell_type": "markdown",
      "metadata": {
        "id": "OsCHuF4LJbzV"
      },
      "source": [
        "**Is digit/Is alpha**\n",
        "\n",
        "Output is a Boolean value (True/False)"
      ]
    },
    {
      "cell_type": "code",
      "execution_count": 42,
      "metadata": {
        "id": "8PaS-4gRJbzV"
      },
      "outputs": [],
      "source": [
        "name = 'Francis'"
      ]
    },
    {
      "cell_type": "code",
      "execution_count": 43,
      "metadata": {
        "id": "L1zQTs6KJbzW",
        "outputId": "2021a675-9c52-46e7-a8ae-01c72cfdb376",
        "colab": {
          "base_uri": "https://localhost:8080/"
        }
      },
      "outputs": [
        {
          "output_type": "execute_result",
          "data": {
            "text/plain": [
              "False"
            ]
          },
          "metadata": {},
          "execution_count": 43
        }
      ],
      "source": [
        "name.isdigit()"
      ]
    },
    {
      "cell_type": "code",
      "execution_count": 44,
      "metadata": {
        "id": "V2bvNTsnJbzW",
        "outputId": "6477ac22-264a-4772-d3f4-921dcf0e778b",
        "colab": {
          "base_uri": "https://localhost:8080/"
        }
      },
      "outputs": [
        {
          "output_type": "execute_result",
          "data": {
            "text/plain": [
              "True"
            ]
          },
          "metadata": {},
          "execution_count": 44
        }
      ],
      "source": [
        "name.isalpha()"
      ]
    },
    {
      "cell_type": "code",
      "execution_count": 45,
      "metadata": {
        "id": "HsC8FFxAJbzW",
        "outputId": "c771f1c5-9760-4528-e8cd-5abb331c6f04",
        "colab": {
          "base_uri": "https://localhost:8080/"
        }
      },
      "outputs": [
        {
          "output_type": "execute_result",
          "data": {
            "text/plain": [
              "True"
            ]
          },
          "metadata": {},
          "execution_count": 45
        }
      ],
      "source": [
        "str(age).isdigit()"
      ]
    },
    {
      "cell_type": "markdown",
      "metadata": {
        "id": "KaD4_Yv_JbzW"
      },
      "source": [
        "**Replace characters**"
      ]
    },
    {
      "cell_type": "code",
      "execution_count": 46,
      "metadata": {
        "id": "1jgZyg6LJbzW",
        "outputId": "ac5e179f-be86-4729-ae3c-772e16fb5b89",
        "colab": {
          "base_uri": "https://localhost:8080/",
          "height": 36
        }
      },
      "outputs": [
        {
          "output_type": "execute_result",
          "data": {
            "text/plain": [
              "'Francik'"
            ],
            "application/vnd.google.colaboratory.intrinsic+json": {
              "type": "string"
            }
          },
          "metadata": {},
          "execution_count": 46
        }
      ],
      "source": [
        "name.replace('s','k')"
      ]
    },
    {
      "cell_type": "markdown",
      "metadata": {
        "id": "PiLfUubcJbzW"
      },
      "source": [
        "**Split a string using a delimiter character**"
      ]
    },
    {
      "cell_type": "code",
      "execution_count": 47,
      "metadata": {
        "collapsed": true,
        "id": "p2rNlVaIJbzW"
      },
      "outputs": [],
      "source": [
        "text = 'I am going to the University of Cincinnati'\n",
        "name = \"Dag Heward-Mills\""
      ]
    },
    {
      "cell_type": "code",
      "execution_count": 48,
      "metadata": {
        "collapsed": true,
        "id": "xVJl0euwJbzX",
        "outputId": "cfd0694b-58ef-4619-e7f8-6e7b4a3b34e9",
        "colab": {
          "base_uri": "https://localhost:8080/"
        }
      },
      "outputs": [
        {
          "output_type": "execute_result",
          "data": {
            "text/plain": [
              "['I', 'am', 'going', 'to', 'the', 'University', 'of', 'Cincinnati']"
            ]
          },
          "metadata": {},
          "execution_count": 48
        }
      ],
      "source": [
        "text.split(' ')"
      ]
    },
    {
      "cell_type": "code",
      "execution_count": 49,
      "metadata": {
        "collapsed": true,
        "id": "B_ONGe-8JbzX",
        "outputId": "80fbaff0-dda6-4212-9070-7949b38baa87",
        "colab": {
          "base_uri": "https://localhost:8080/"
        }
      },
      "outputs": [
        {
          "output_type": "execute_result",
          "data": {
            "text/plain": [
              "['Dag Heward', 'Mills']"
            ]
          },
          "metadata": {},
          "execution_count": 49
        }
      ],
      "source": [
        "name.split('-')"
      ]
    },
    {
      "cell_type": "markdown",
      "metadata": {
        "id": "Da35EA9lJbzX"
      },
      "source": [
        "### String Concatenation\n",
        "**Combining of strings is done by using the (+) operator between them**"
      ]
    },
    {
      "cell_type": "code",
      "execution_count": 50,
      "metadata": {
        "id": "fT5ABaDwJbzX",
        "outputId": "a39e0984-9cf2-4a68-f666-44b753f4207c",
        "colab": {
          "base_uri": "https://localhost:8080/"
        }
      },
      "outputs": [
        {
          "output_type": "stream",
          "name": "stdout",
          "text": [
            "My name is John\n"
          ]
        }
      ],
      "source": [
        "string1 = 'My name is '\n",
        "name = 'John'\n",
        "string2 = string1 + name\n",
        "print(string2)"
      ]
    },
    {
      "cell_type": "markdown",
      "metadata": {
        "id": "LViE84F3JbzX"
      },
      "source": [
        "**In order to combine a string with a non-string variable, use str( ) method to convert non-strings to strings**\n",
        "<br>\n",
        "You cannot concatenate a string with a non-string type without converting the non-string type to a string.\n",
        "<br>\n",
        "No conversion will result in error similar tp the error below\n",
        "\n",
        "TypeError                                 Traceback (most recent call last)\n",
        "<br>\n",
        "< ipython-input-77-887da7680fd9 > in < module >( )\n",
        "<br>\n",
        "----> 1 string1 + 9\n",
        "<br>\n",
        "TypeError: must be str, not int"
      ]
    },
    {
      "cell_type": "code",
      "execution_count": 51,
      "metadata": {
        "collapsed": true,
        "id": "TiPzbzLbJbzX",
        "outputId": "2c9b2f0d-e273-4869-cdd4-64457941d06f",
        "colab": {
          "base_uri": "https://localhost:8080/"
        }
      },
      "outputs": [
        {
          "output_type": "stream",
          "name": "stdout",
          "text": [
            "My name is John I am 16 years old\n"
          ]
        }
      ],
      "source": [
        "string1 = 'My name is '\n",
        "name = 'John '\n",
        "age = 16\n",
        "string2 = string1 + name + 'I am ' + str(age) + ' years old'\n",
        "print(string2)"
      ]
    },
    {
      "cell_type": "markdown",
      "metadata": {
        "id": "Y_Kqnin6JbzY"
      },
      "source": [
        "# Lists\n",
        "* A datatype that can store a collection of different pieces of information as a sequence under a single variable name\n",
        "* **Creating lists** - Put comma separated values within square brackets. Values can be of different data types"
      ]
    },
    {
      "cell_type": "code",
      "execution_count": 52,
      "metadata": {
        "collapsed": true,
        "id": "nxGrRsZ0JbzY"
      },
      "outputs": [],
      "source": [
        "list1 = ['physics','astronomy',56.98,'MJ',-9.36]\n",
        "\n",
        "# list within a list\n",
        "list2 = ['chemistry','biology',77.98,[3,4,65],'EE',-56]"
      ]
    },
    {
      "cell_type": "markdown",
      "metadata": {
        "id": "bBa4IqjyJbzZ"
      },
      "source": [
        "### Accessing values via indexing\n",
        "* Same as String objects. \n",
        "* Elements or a range of elements can be accessed by index"
      ]
    },
    {
      "cell_type": "code",
      "execution_count": 53,
      "metadata": {
        "collapsed": true,
        "id": "tP4czlz-JbzZ",
        "outputId": "48010104-f7bd-4e1e-f242-d8946ea54c2b",
        "colab": {
          "base_uri": "https://localhost:8080/",
          "height": 36
        }
      },
      "outputs": [
        {
          "output_type": "execute_result",
          "data": {
            "text/plain": [
              "'physics'"
            ],
            "application/vnd.google.colaboratory.intrinsic+json": {
              "type": "string"
            }
          },
          "metadata": {},
          "execution_count": 53
        }
      ],
      "source": [
        "list1[0]"
      ]
    },
    {
      "cell_type": "code",
      "execution_count": 54,
      "metadata": {
        "collapsed": true,
        "id": "XfEITGJkJbzZ",
        "outputId": "5f19d615-7192-4fd0-cac9-e483ae3e4b44",
        "colab": {
          "base_uri": "https://localhost:8080/",
          "height": 36
        }
      },
      "outputs": [
        {
          "output_type": "execute_result",
          "data": {
            "text/plain": [
              "'astronomy'"
            ],
            "application/vnd.google.colaboratory.intrinsic+json": {
              "type": "string"
            }
          },
          "metadata": {},
          "execution_count": 54
        }
      ],
      "source": [
        "list1[1]"
      ]
    },
    {
      "cell_type": "code",
      "execution_count": 55,
      "metadata": {
        "collapsed": true,
        "id": "L46i99SqJbzZ",
        "outputId": "16dc4722-8cfb-4a54-8b88-74ff3e852194",
        "colab": {
          "base_uri": "https://localhost:8080/"
        }
      },
      "outputs": [
        {
          "output_type": "execute_result",
          "data": {
            "text/plain": [
              "-9.36"
            ]
          },
          "metadata": {},
          "execution_count": 55
        }
      ],
      "source": [
        "list1[4]"
      ]
    },
    {
      "cell_type": "code",
      "execution_count": 56,
      "metadata": {
        "collapsed": true,
        "id": "Xjz8d1d2Jbza",
        "outputId": "04be18c8-43ca-48ec-dde4-1d050e72dcd8",
        "colab": {
          "base_uri": "https://localhost:8080/"
        }
      },
      "outputs": [
        {
          "output_type": "execute_result",
          "data": {
            "text/plain": [
              "-9.36"
            ]
          },
          "metadata": {},
          "execution_count": 56
        }
      ],
      "source": [
        "list1[-1]"
      ]
    },
    {
      "cell_type": "code",
      "execution_count": 57,
      "metadata": {
        "collapsed": true,
        "id": "4IFS57fKJbza",
        "outputId": "9bd3e7c5-765e-4c68-c215-671de818abc2",
        "colab": {
          "base_uri": "https://localhost:8080/",
          "height": 36
        }
      },
      "outputs": [
        {
          "output_type": "execute_result",
          "data": {
            "text/plain": [
              "'MJ'"
            ],
            "application/vnd.google.colaboratory.intrinsic+json": {
              "type": "string"
            }
          },
          "metadata": {},
          "execution_count": 57
        }
      ],
      "source": [
        "list1[-2]"
      ]
    },
    {
      "cell_type": "code",
      "execution_count": 58,
      "metadata": {
        "collapsed": true,
        "id": "s70xjd39Jbza",
        "outputId": "c8ebedb1-1feb-4120-a574-34ac8150b229",
        "colab": {
          "base_uri": "https://localhost:8080/",
          "height": 36
        }
      },
      "outputs": [
        {
          "output_type": "execute_result",
          "data": {
            "text/plain": [
              "'r'"
            ],
            "application/vnd.google.colaboratory.intrinsic+json": {
              "type": "string"
            }
          },
          "metadata": {},
          "execution_count": 58
        }
      ],
      "source": [
        "list1[1][3]"
      ]
    },
    {
      "cell_type": "code",
      "execution_count": 59,
      "metadata": {
        "collapsed": true,
        "id": "H-9wa56GJbza",
        "outputId": "514a9f63-619a-4cda-ad42-cb64a475ae64",
        "colab": {
          "base_uri": "https://localhost:8080/"
        }
      },
      "outputs": [
        {
          "output_type": "execute_result",
          "data": {
            "text/plain": [
              "[3, 4, 65]"
            ]
          },
          "metadata": {},
          "execution_count": 59
        }
      ],
      "source": [
        "list2[3]"
      ]
    },
    {
      "cell_type": "code",
      "execution_count": 60,
      "metadata": {
        "collapsed": true,
        "id": "bsjd4qfJJbza",
        "outputId": "58c5cf30-9bee-4ee8-e955-58fda04e1096",
        "colab": {
          "base_uri": "https://localhost:8080/"
        }
      },
      "outputs": [
        {
          "output_type": "execute_result",
          "data": {
            "text/plain": [
              "65"
            ]
          },
          "metadata": {},
          "execution_count": 60
        }
      ],
      "source": [
        "list2[3][2]"
      ]
    },
    {
      "cell_type": "code",
      "execution_count": 61,
      "metadata": {
        "collapsed": true,
        "id": "Uzcz2suzJbza",
        "outputId": "ef47ca57-4972-4036-bd1b-e81aa64ea6c1",
        "colab": {
          "base_uri": "https://localhost:8080/"
        }
      },
      "outputs": [
        {
          "output_type": "execute_result",
          "data": {
            "text/plain": [
              "['physics', 'astronomy', 56.98, 'MJ']"
            ]
          },
          "metadata": {},
          "execution_count": 61
        }
      ],
      "source": [
        "list1[0:4]"
      ]
    },
    {
      "cell_type": "code",
      "execution_count": 62,
      "metadata": {
        "collapsed": true,
        "id": "med3bwvdJbza",
        "outputId": "61b8a995-1ccf-43a1-d2ea-23cd2f2e53fc",
        "colab": {
          "base_uri": "https://localhost:8080/"
        }
      },
      "outputs": [
        {
          "output_type": "execute_result",
          "data": {
            "text/plain": [
              "[[3, 4, 65], 'EE']"
            ]
          },
          "metadata": {},
          "execution_count": 62
        }
      ],
      "source": [
        "list2[3:5]"
      ]
    },
    {
      "cell_type": "markdown",
      "metadata": {
        "id": "BV0-aHa2Jbza"
      },
      "source": [
        "### List Concatenation\n",
        "**Can be done by using the (+) operator between two lists**"
      ]
    },
    {
      "cell_type": "code",
      "execution_count": 63,
      "metadata": {
        "collapsed": true,
        "id": "Qd5xjW-tJbzb",
        "outputId": "3b0649fd-9211-4992-987a-5f355acc1487",
        "colab": {
          "base_uri": "https://localhost:8080/"
        }
      },
      "outputs": [
        {
          "output_type": "execute_result",
          "data": {
            "text/plain": [
              "[1, 2, 3, 5, 6, 7]"
            ]
          },
          "metadata": {},
          "execution_count": 63
        }
      ],
      "source": [
        "[1,2,3] + [5,6,7]"
      ]
    },
    {
      "cell_type": "code",
      "execution_count": 64,
      "metadata": {
        "collapsed": true,
        "id": "sOFgdNBcJbzb",
        "outputId": "b1e87085-4b05-48da-fd45-b7468ed54e65",
        "colab": {
          "base_uri": "https://localhost:8080/"
        }
      },
      "outputs": [
        {
          "output_type": "execute_result",
          "data": {
            "text/plain": [
              "['physics',\n",
              " 'astronomy',\n",
              " 56.98,\n",
              " 'MJ',\n",
              " -9.36,\n",
              " 'chemistry',\n",
              " 'biology',\n",
              " 77.98,\n",
              " [3, 4, 65],\n",
              " 'EE',\n",
              " -56]"
            ]
          },
          "metadata": {},
          "execution_count": 64
        }
      ],
      "source": [
        "list1 + list2"
      ]
    },
    {
      "cell_type": "markdown",
      "metadata": {
        "id": "ngYx05I2Jbzb"
      },
      "source": [
        "### Some List Functions and Methods\n",
        "\n",
        "**Length of a list**"
      ]
    },
    {
      "cell_type": "code",
      "execution_count": 65,
      "metadata": {
        "collapsed": true,
        "id": "BOKHMpykJbzb",
        "outputId": "2d44b96c-0617-419a-e250-5fbed4367758",
        "colab": {
          "base_uri": "https://localhost:8080/"
        }
      },
      "outputs": [
        {
          "output_type": "execute_result",
          "data": {
            "text/plain": [
              "5"
            ]
          },
          "metadata": {},
          "execution_count": 65
        }
      ],
      "source": [
        "len(list1)"
      ]
    },
    {
      "cell_type": "code",
      "execution_count": 66,
      "metadata": {
        "collapsed": true,
        "id": "VbNHANviJbzb",
        "outputId": "8e18a544-a855-4a40-a7ac-5077841f9ec5",
        "colab": {
          "base_uri": "https://localhost:8080/"
        }
      },
      "outputs": [
        {
          "output_type": "execute_result",
          "data": {
            "text/plain": [
              "6"
            ]
          },
          "metadata": {},
          "execution_count": 66
        }
      ],
      "source": [
        "len(list2)"
      ]
    },
    {
      "cell_type": "markdown",
      "metadata": {
        "id": "uC1TuokvJbzb"
      },
      "source": [
        "**Maximum/Minimum value**"
      ]
    },
    {
      "cell_type": "code",
      "execution_count": 67,
      "metadata": {
        "collapsed": true,
        "id": "n7CE5GjEJbzb"
      },
      "outputs": [],
      "source": [
        "list3 = [3,4,67,2,1] \n",
        "list4 = ['3','4','67','2','1','four','three']"
      ]
    },
    {
      "cell_type": "code",
      "execution_count": 68,
      "metadata": {
        "collapsed": true,
        "id": "HbKf4hFyJbzb",
        "outputId": "7f49aaa8-47ce-4c20-b7b6-1a2f4b38fa52",
        "colab": {
          "base_uri": "https://localhost:8080/"
        }
      },
      "outputs": [
        {
          "output_type": "execute_result",
          "data": {
            "text/plain": [
              "67"
            ]
          },
          "metadata": {},
          "execution_count": 68
        }
      ],
      "source": [
        "max(list3)"
      ]
    },
    {
      "cell_type": "code",
      "execution_count": 69,
      "metadata": {
        "collapsed": true,
        "id": "AWZIhNfDJbzc",
        "outputId": "5de306a7-4c9a-4779-98b3-bc788150be3b",
        "colab": {
          "base_uri": "https://localhost:8080/"
        }
      },
      "outputs": [
        {
          "output_type": "execute_result",
          "data": {
            "text/plain": [
              "1"
            ]
          },
          "metadata": {},
          "execution_count": 69
        }
      ],
      "source": [
        "min(list3)"
      ]
    },
    {
      "cell_type": "markdown",
      "metadata": {
        "id": "yfxr7_gxJbzc"
      },
      "source": [
        "**Append object to list**"
      ]
    },
    {
      "cell_type": "code",
      "execution_count": 70,
      "metadata": {
        "collapsed": true,
        "id": "I4u9PlxuJbzc",
        "outputId": "75459b7f-c668-4033-fe92-b27935893539",
        "colab": {
          "base_uri": "https://localhost:8080/"
        }
      },
      "outputs": [
        {
          "output_type": "execute_result",
          "data": {
            "text/plain": [
              "['3', '4', '67', '2', '1', 'four', 'three', 'two', 'three']"
            ]
          },
          "metadata": {},
          "execution_count": 70
        }
      ],
      "source": [
        "list4.append('two')\n",
        "list4.append('three')\n",
        "list4"
      ]
    },
    {
      "cell_type": "markdown",
      "metadata": {
        "id": "nIGTMS03Jbzc"
      },
      "source": [
        "**Frequency of object**"
      ]
    },
    {
      "cell_type": "code",
      "execution_count": 71,
      "metadata": {
        "collapsed": true,
        "id": "qR06JMjVJbzc",
        "outputId": "685b55af-d86d-46b2-b5a0-7cad6fba2ccf",
        "colab": {
          "base_uri": "https://localhost:8080/"
        }
      },
      "outputs": [
        {
          "output_type": "execute_result",
          "data": {
            "text/plain": [
              "2"
            ]
          },
          "metadata": {},
          "execution_count": 71
        }
      ],
      "source": [
        "list4.count('three')"
      ]
    },
    {
      "cell_type": "markdown",
      "metadata": {
        "id": "zaf1MPiGJbzc"
      },
      "source": [
        "**Return index**"
      ]
    },
    {
      "cell_type": "code",
      "execution_count": 72,
      "metadata": {
        "collapsed": true,
        "id": "feot5GA4Jbzd",
        "outputId": "9a524b39-83fc-4560-cd1e-5af58e270bc0",
        "colab": {
          "base_uri": "https://localhost:8080/"
        }
      },
      "outputs": [
        {
          "output_type": "execute_result",
          "data": {
            "text/plain": [
              "4"
            ]
          },
          "metadata": {},
          "execution_count": 72
        }
      ],
      "source": [
        "list4.index('1')"
      ]
    },
    {
      "cell_type": "markdown",
      "metadata": {
        "id": "4PtLWHVmJbzd"
      },
      "source": [
        "**Insert object**"
      ]
    },
    {
      "cell_type": "code",
      "execution_count": 73,
      "metadata": {
        "collapsed": true,
        "id": "MDNpjJhLJbzd",
        "outputId": "4ab4d770-2479-433a-fd54-d5270d2372cc",
        "colab": {
          "base_uri": "https://localhost:8080/"
        }
      },
      "outputs": [
        {
          "output_type": "execute_result",
          "data": {
            "text/plain": [
              "['3', '4', '67', 56, '2', '1', 'four', 'three', 'two', 'three']"
            ]
          },
          "metadata": {},
          "execution_count": 73
        }
      ],
      "source": [
        "list4.insert(3,56)\n",
        "list4"
      ]
    },
    {
      "cell_type": "markdown",
      "metadata": {
        "id": "libxtAQQJbzd"
      },
      "source": [
        "**Delete object**\n",
        "\n",
        "*By Index position*"
      ]
    },
    {
      "cell_type": "code",
      "execution_count": 74,
      "metadata": {
        "collapsed": true,
        "id": "W4BWqPgaJbzd",
        "outputId": "cb5c07e2-75ec-4b17-a314-66b1f6180a80",
        "colab": {
          "base_uri": "https://localhost:8080/"
        }
      },
      "outputs": [
        {
          "output_type": "execute_result",
          "data": {
            "text/plain": [
              "56"
            ]
          },
          "metadata": {},
          "execution_count": 74
        }
      ],
      "source": [
        "list4.pop(3)"
      ]
    },
    {
      "cell_type": "code",
      "execution_count": 75,
      "metadata": {
        "collapsed": true,
        "id": "c_vM_UmwJbzd",
        "outputId": "3fe18f84-2cd7-4341-d867-ea491aee97c3",
        "colab": {
          "base_uri": "https://localhost:8080/"
        }
      },
      "outputs": [
        {
          "output_type": "execute_result",
          "data": {
            "text/plain": [
              "['3', '4', '67', '2', '1', 'four', 'three', 'two', 'three']"
            ]
          },
          "metadata": {},
          "execution_count": 75
        }
      ],
      "source": [
        "list4"
      ]
    },
    {
      "cell_type": "markdown",
      "metadata": {
        "id": "q2t8pQiZJbzd"
      },
      "source": [
        "*By element referencing*"
      ]
    },
    {
      "cell_type": "code",
      "execution_count": 76,
      "metadata": {
        "collapsed": true,
        "id": "kahBxey0Jbzd"
      },
      "outputs": [],
      "source": [
        "list4.remove('67')"
      ]
    },
    {
      "cell_type": "code",
      "execution_count": 77,
      "metadata": {
        "collapsed": true,
        "id": "NsFUfNEXJbze",
        "outputId": "fc927547-32bf-4a57-b1ec-3b159271c425",
        "colab": {
          "base_uri": "https://localhost:8080/"
        }
      },
      "outputs": [
        {
          "output_type": "execute_result",
          "data": {
            "text/plain": [
              "['3', '4', '2', '1', 'four', 'three', 'two', 'three']"
            ]
          },
          "metadata": {},
          "execution_count": 77
        }
      ],
      "source": [
        "list4"
      ]
    },
    {
      "cell_type": "markdown",
      "metadata": {
        "id": "CBkmFtBJJbzf"
      },
      "source": [
        "**Reverse the list**"
      ]
    },
    {
      "cell_type": "code",
      "execution_count": 78,
      "metadata": {
        "collapsed": true,
        "id": "iX6vgMxzJbzf",
        "outputId": "4e22306d-a20a-4356-c87e-6621bc0e9dca",
        "colab": {
          "base_uri": "https://localhost:8080/"
        }
      },
      "outputs": [
        {
          "output_type": "execute_result",
          "data": {
            "text/plain": [
              "['three', 'two', 'three', 'four', '1', '2', '4', '3']"
            ]
          },
          "metadata": {},
          "execution_count": 78
        }
      ],
      "source": [
        "list4.reverse()\n",
        "list4"
      ]
    },
    {
      "cell_type": "markdown",
      "metadata": {
        "id": "0ESz6kfEJbzf"
      },
      "source": [
        "**Sort the list (natural order)**"
      ]
    },
    {
      "cell_type": "code",
      "execution_count": 79,
      "metadata": {
        "collapsed": true,
        "id": "_6uy70jwJbzg",
        "outputId": "57afa118-08dd-4bac-b9f5-f0f3a3b2f998",
        "colab": {
          "base_uri": "https://localhost:8080/"
        }
      },
      "outputs": [
        {
          "output_type": "execute_result",
          "data": {
            "text/plain": [
              "['1', '2', '3', '4', 'four', 'three', 'three', 'two']"
            ]
          },
          "metadata": {},
          "execution_count": 79
        }
      ],
      "source": [
        "list4.sort()\n",
        "list4"
      ]
    },
    {
      "cell_type": "markdown",
      "metadata": {
        "id": "iUL8almkJbzg"
      },
      "source": [
        "**<h5><center>Note</center></h5>**\n",
        "\n",
        "**Lists are \"MUTABLE\"**"
      ]
    },
    {
      "cell_type": "code",
      "execution_count": 80,
      "metadata": {
        "collapsed": true,
        "id": "hfW2_6z-Jbzg",
        "outputId": "4edf855a-ebc0-4b79-f6dc-9ee5a08ee344",
        "colab": {
          "base_uri": "https://localhost:8080/"
        }
      },
      "outputs": [
        {
          "output_type": "execute_result",
          "data": {
            "text/plain": [
              "['1', '2', '3', '4', 'four', 5, 'three', 'two']"
            ]
          },
          "metadata": {},
          "execution_count": 80
        }
      ],
      "source": [
        "list4[5] = 5\n",
        "list4"
      ]
    },
    {
      "cell_type": "markdown",
      "metadata": {
        "id": "ga5U5wBoJbzg"
      },
      "source": [
        "# Tuples\n",
        "**Tuples are sequences, just like lists except**\n",
        "* Tuples are immutable - cannot be changed or updated like lists\n",
        "* Tuples use parentheses ( ), whereas lists use square brackets [ ]"
      ]
    },
    {
      "cell_type": "code",
      "execution_count": 81,
      "metadata": {
        "collapsed": true,
        "id": "0I0bWa65Jbzh"
      },
      "outputs": [],
      "source": [
        "tup = (3,4,67,2,1)"
      ]
    },
    {
      "cell_type": "markdown",
      "metadata": {
        "id": "7qsr7g5BJbzh"
      },
      "source": [
        "**tup[2] = 8**\n",
        "<br>\n",
        "will result in the error below\n",
        "\n",
        "TypeError                                 Traceback (most recent call last)\n",
        "<br>\n",
        "< ipython-input-177-256383ac5724 > in < module >()\n",
        "<br>\n",
        "----> 1 tup[2] = 8\n",
        "<br>\n",
        "TypeError: 'tuple' object does not support item assignment"
      ]
    },
    {
      "cell_type": "markdown",
      "metadata": {
        "id": "nlurc852Jbzh"
      },
      "source": [
        "# Dictionary"
      ]
    },
    {
      "cell_type": "markdown",
      "metadata": {
        "id": "z_qbuJzHJbzh"
      },
      "source": [
        "* Similar to a list except values are accessed by looking up a **key** instead of an index\n",
        "* A key can be a string or number\n",
        "* **Creating dictionaries** - **key-value** pairs are separated by colons (**:**), items are separated by commas (**,**) and everything is enclosed in curly braces { }"
      ]
    },
    {
      "cell_type": "code",
      "execution_count": 82,
      "metadata": {
        "id": "rxCSq6bqJbzh"
      },
      "outputs": [],
      "source": [
        "dict1 = {\"name\":\"Daniel\",\"age\":23,\"degree\":\"MS\"}\n",
        "dict2 = {'name':'Francis','age':60,'job':'Car designer','brand':'Jaguar','worked-for':['Ford','TWR','Aston Martin']}"
      ]
    },
    {
      "cell_type": "markdown",
      "metadata": {
        "id": "UC47xYNJJbzh"
      },
      "source": [
        "* **Accessing values**"
      ]
    },
    {
      "cell_type": "code",
      "execution_count": 83,
      "metadata": {
        "collapsed": true,
        "id": "QpPDTJJgJbzi",
        "outputId": "6046bd8f-62e9-4f72-c203-587ddebd8a4a",
        "colab": {
          "base_uri": "https://localhost:8080/"
        }
      },
      "outputs": [
        {
          "output_type": "execute_result",
          "data": {
            "text/plain": [
              "23"
            ]
          },
          "metadata": {},
          "execution_count": 83
        }
      ],
      "source": [
        "dict1['age']"
      ]
    },
    {
      "cell_type": "code",
      "execution_count": 84,
      "metadata": {
        "collapsed": true,
        "id": "Lhu2QTaJJbzi",
        "outputId": "28a46330-4e47-436b-df67-fad9cfffa05f",
        "colab": {
          "base_uri": "https://localhost:8080/"
        }
      },
      "outputs": [
        {
          "output_type": "execute_result",
          "data": {
            "text/plain": [
              "['Ford', 'TWR', 'Aston Martin']"
            ]
          },
          "metadata": {},
          "execution_count": 84
        }
      ],
      "source": [
        "dict2['worked-for']"
      ]
    },
    {
      "cell_type": "code",
      "execution_count": 85,
      "metadata": {
        "collapsed": true,
        "id": "0vceauJ_Jbzi",
        "outputId": "5175ce91-f722-4818-d77f-ac25f4e620a2",
        "colab": {
          "base_uri": "https://localhost:8080/",
          "height": 36
        }
      },
      "outputs": [
        {
          "output_type": "execute_result",
          "data": {
            "text/plain": [
              "'TWR'"
            ],
            "application/vnd.google.colaboratory.intrinsic+json": {
              "type": "string"
            }
          },
          "metadata": {},
          "execution_count": 85
        }
      ],
      "source": [
        "dict2['worked-for'][1]"
      ]
    },
    {
      "cell_type": "markdown",
      "metadata": {
        "id": "HPGSJgpgJbzi"
      },
      "source": [
        "* **Updating dictionary** - Dictionaries are MUTABLE. \n",
        "<br>\n",
        "  You may **modify an existing entry** and **add new entry**"
      ]
    },
    {
      "cell_type": "code",
      "execution_count": 86,
      "metadata": {
        "collapsed": true,
        "id": "2s-rJtlFJbzi"
      },
      "outputs": [],
      "source": [
        "dict1['subjects'] = [\"OS\",'DBMS','Artificial Intelligence']"
      ]
    },
    {
      "cell_type": "code",
      "execution_count": 87,
      "metadata": {
        "collapsed": true,
        "id": "GNY-Iu1vJbzi",
        "outputId": "cb03a3ba-6a86-4bff-8b58-9a9f41d91e20",
        "colab": {
          "base_uri": "https://localhost:8080/"
        }
      },
      "outputs": [
        {
          "output_type": "execute_result",
          "data": {
            "text/plain": [
              "{'name': 'Daniel',\n",
              " 'age': 23,\n",
              " 'degree': 'MS',\n",
              " 'subjects': ['OS', 'DBMS', 'Artificial Intelligence']}"
            ]
          },
          "metadata": {},
          "execution_count": 87
        }
      ],
      "source": [
        "dict1"
      ]
    },
    {
      "cell_type": "code",
      "execution_count": 88,
      "metadata": {
        "collapsed": true,
        "id": "CNJaI2UdJbzj"
      },
      "outputs": [],
      "source": [
        "dict1['degree']='Master of Science'"
      ]
    },
    {
      "cell_type": "code",
      "execution_count": 89,
      "metadata": {
        "collapsed": true,
        "id": "P5PiCM0RJbzj",
        "outputId": "f0ce7c0b-0d20-430b-f27e-dc2c70f9f4dc",
        "colab": {
          "base_uri": "https://localhost:8080/"
        }
      },
      "outputs": [
        {
          "output_type": "execute_result",
          "data": {
            "text/plain": [
              "{'name': 'Daniel',\n",
              " 'age': 23,\n",
              " 'degree': 'Master of Science',\n",
              " 'subjects': ['OS', 'DBMS', 'Artificial Intelligence']}"
            ]
          },
          "metadata": {},
          "execution_count": 89
        }
      ],
      "source": [
        "dict1"
      ]
    },
    {
      "cell_type": "markdown",
      "metadata": {
        "id": "Ri0LbB_2Jbzj"
      },
      "source": [
        "### Some Dictionary functions and Methods\n",
        "**Length of Dictionary**"
      ]
    },
    {
      "cell_type": "code",
      "execution_count": 90,
      "metadata": {
        "collapsed": true,
        "id": "W7JZ5gNdJbzj",
        "outputId": "19b8da76-22e1-43a1-af4a-1354afd96426",
        "colab": {
          "base_uri": "https://localhost:8080/"
        }
      },
      "outputs": [
        {
          "output_type": "execute_result",
          "data": {
            "text/plain": [
              "4"
            ]
          },
          "metadata": {},
          "execution_count": 90
        }
      ],
      "source": [
        "len(dict1)"
      ]
    },
    {
      "cell_type": "markdown",
      "metadata": {
        "id": "Y5dYpeWQJbzj"
      },
      "source": [
        "**Return value with get method**"
      ]
    },
    {
      "cell_type": "code",
      "execution_count": 91,
      "metadata": {
        "collapsed": true,
        "id": "BDmVib-kJbzk",
        "outputId": "c80ee941-5e57-495f-b665-5d34e6aaaab2",
        "colab": {
          "base_uri": "https://localhost:8080/",
          "height": 36
        }
      },
      "outputs": [
        {
          "output_type": "execute_result",
          "data": {
            "text/plain": [
              "'Daniel'"
            ],
            "application/vnd.google.colaboratory.intrinsic+json": {
              "type": "string"
            }
          },
          "metadata": {},
          "execution_count": 91
        }
      ],
      "source": [
        "dict1.get('name')"
      ]
    },
    {
      "cell_type": "markdown",
      "metadata": {
        "id": "HK0otsWwJbzk"
      },
      "source": [
        "**List of key-value pairs**"
      ]
    },
    {
      "cell_type": "code",
      "execution_count": 92,
      "metadata": {
        "collapsed": true,
        "id": "I7lEpCQIJbzn",
        "outputId": "5e21eb0f-eb31-43d2-fd93-facd60c72577",
        "colab": {
          "base_uri": "https://localhost:8080/"
        }
      },
      "outputs": [
        {
          "output_type": "execute_result",
          "data": {
            "text/plain": [
              "dict_items([('name', 'Daniel'), ('age', 23), ('degree', 'Master of Science'), ('subjects', ['OS', 'DBMS', 'Artificial Intelligence'])])"
            ]
          },
          "metadata": {},
          "execution_count": 92
        }
      ],
      "source": [
        "dict1.items()"
      ]
    },
    {
      "cell_type": "markdown",
      "metadata": {
        "id": "SAy05kDQJbzn"
      },
      "source": [
        "**List of keys**"
      ]
    },
    {
      "cell_type": "code",
      "execution_count": 93,
      "metadata": {
        "collapsed": true,
        "id": "kAGTVOC3Jbzn",
        "outputId": "7a834514-02f8-4f48-a898-714242fbb414",
        "colab": {
          "base_uri": "https://localhost:8080/"
        }
      },
      "outputs": [
        {
          "output_type": "execute_result",
          "data": {
            "text/plain": [
              "dict_keys(['name', 'age', 'degree', 'subjects'])"
            ]
          },
          "metadata": {},
          "execution_count": 93
        }
      ],
      "source": [
        "dict1.keys()"
      ]
    },
    {
      "cell_type": "markdown",
      "metadata": {
        "id": "4HD5pUmDJbzn"
      },
      "source": [
        "**List of values**"
      ]
    },
    {
      "cell_type": "code",
      "execution_count": 94,
      "metadata": {
        "collapsed": true,
        "id": "Kfc7oLWVJbzn",
        "outputId": "2c712b8d-65ea-4cce-b304-9e14a3813e6b",
        "colab": {
          "base_uri": "https://localhost:8080/"
        }
      },
      "outputs": [
        {
          "output_type": "execute_result",
          "data": {
            "text/plain": [
              "dict_values(['Daniel', 23, 'Master of Science', ['OS', 'DBMS', 'Artificial Intelligence']])"
            ]
          },
          "metadata": {},
          "execution_count": 94
        }
      ],
      "source": [
        "dict1.values()"
      ]
    },
    {
      "cell_type": "markdown",
      "metadata": {
        "id": "FStAtNEfJbzo"
      },
      "source": [
        "# Sets\n",
        "\n",
        "* A set is an unordered, unindexed collection of data\n",
        "* Sets are defined using '{ }'\n",
        "* Returns only unique values, no duplicates\n",
        "* Sets are mutable"
      ]
    },
    {
      "cell_type": "code",
      "execution_count": 95,
      "metadata": {
        "id": "_EdvkpxDJbzo",
        "outputId": "bf531f3e-3bcf-4c8b-bea3-1ec32a5f7dd6",
        "colab": {
          "base_uri": "https://localhost:8080/"
        }
      },
      "outputs": [
        {
          "output_type": "execute_result",
          "data": {
            "text/plain": [
              "{'amazon', 'apple', 'google', 'microsoft', 'tesla'}"
            ]
          },
          "metadata": {},
          "execution_count": 95
        }
      ],
      "source": [
        "tech = {'google','amazon','apple','tesla','microsoft','apple', 'google'}\n",
        "tech"
      ]
    },
    {
      "cell_type": "markdown",
      "source": [
        "## **Exercise 2**\n",
        "\n",
        "#### **(Strings, Lists, and Dictionaries)**\n",
        "*   Create a variable with the string value - **'The quick brown fox jumps over a lazy dog'** <br>\n",
        "    * Print the length of this string variable\n",
        "    * **'Split'** the string using **'  '** (space character) and assign this operation to a new variable. Print the length of the new variable\n",
        "    * Find the middle element of the sequence in new variable and return its value\n",
        "    * **'Sort'** the elements of the new variable and **'append'** a new string value (a word/more than a word) \n",
        "    * **'Join'** the split strings (in the new variable) with a space character and print this operation (**Hint: ' '.join(variable_name)**)\n",
        "\n",
        "\n",
        "\n",
        "\n",
        "\n"
      ],
      "metadata": {
        "id": "HY2I6gLsT7eh"
      }
    },
    {
      "cell_type": "code",
      "source": [
        "# Enter your code here\n",
        "# Enter your code here\n",
        "String = 'The quick brown fox jumps over a lazy dog'\n",
        "\n",
        "# printing my string\n",
        "print(\"My string is\",String)\n",
        "\n",
        "# Length of the string\n",
        "print(\"The length of the string\",len(String))\n",
        "\n",
        "# Splitting my string\n",
        "new_string = String.split(' ')\n",
        "\n",
        "# Printing my new string\n",
        "print(\"The new string is\", new_string)\n",
        "\n",
        "# Length of the string\n",
        "print(\"The length of the new string\",len(new_string))\n",
        "\n",
        "# finding the middle element\n",
        "mid_obj=len(new_string)//2\n",
        "\n",
        "# printing the middle element\n",
        "print(\"The miidle element is\", new_string[mid_obj])\n",
        "\n",
        "# Sorting the new string\n",
        "new_string.sort()\n",
        "print(new_string)\n",
        "\n",
        "#Adding a string to the 'new' variable\n",
        "new_string.append('. This is another string')\n",
        "\n",
        "#Joining the the individual strings into one string\n",
        "' '.join(new_string)\n",
        "\n",
        "\n",
        "\n",
        "\n",
        "\n",
        "\n",
        "\n"
      ],
      "metadata": {
        "id": "zYOC6J9ET_mS",
        "outputId": "3b1838c1-37b5-4009-93bd-0f2a4b8b9a8d",
        "colab": {
          "base_uri": "https://localhost:8080/",
          "height": 140
        }
      },
      "execution_count": 96,
      "outputs": [
        {
          "output_type": "stream",
          "name": "stdout",
          "text": [
            "My string is The quick brown fox jumps over a lazy dog\n",
            "The length of the string 41\n",
            "The new string is ['The', 'quick', 'brown', 'fox', 'jumps', 'over', 'a', 'lazy', 'dog']\n",
            "The length of the new string 9\n",
            "The miidle element is jumps\n",
            "['The', 'a', 'brown', 'dog', 'fox', 'jumps', 'lazy', 'over', 'quick']\n"
          ]
        },
        {
          "output_type": "execute_result",
          "data": {
            "text/plain": [
              "'The a brown dog fox jumps lazy over quick . This is another string'"
            ],
            "application/vnd.google.colaboratory.intrinsic+json": {
              "type": "string"
            }
          },
          "metadata": {},
          "execution_count": 96
        }
      ]
    },
    {
      "cell_type": "markdown",
      "source": [
        "*   Create a dictionary from the following table. (Column Name - Keys, Corresponding Data - Values)\n",
        "  * Return **'keys'** and **'values'** separately\n",
        "\n",
        "\n",
        ">|Director | Movies | Academy Awards |\n",
        "|------|-----|-----------|\n",
        "| Q Tarantino    |<center> 10 |<center> 7  |\n",
        "| C Nolan   |<center> 11 |<center>11 |\n",
        "| S Spielberg    |<center> 37 |<center>3  |\n",
        "| PT Anderson    |<center> 9 |<center>3  |\n",
        "| M Scorsese\t   | <center>25 |<center>20 |\n",
        "| C Eastwood | <center>40 |<center>4 |"
      ],
      "metadata": {
        "id": "UCkNoyOQUKhR"
      }
    },
    {
      "cell_type": "code",
      "source": [
        "# Enter your code here\n",
        "\n",
        "\n",
        "new_dict = {'Director':['Q Tarantino', 'C Nolan', 'S Spielberg', 'PT Anderson', 'M Scorsese', 'C Eastwood'],'Movies':[10,11,37,9,25,40],'Academy Awards':[7,11,3,3,20,4]}\n",
        "\n",
        "# Items in the dictionary\n",
        "print(new_dict.items())\n",
        "\n",
        "# Keys in the dictionary\n",
        "print(new_dict.keys())\n",
        "\n",
        "# Values in the dictionary\n",
        "print(new_dict.values())\n",
        "\n",
        "\n",
        "\n",
        "\n"
      ],
      "metadata": {
        "id": "5Sthe8F2UJhZ",
        "outputId": "d112cb30-8aff-45fc-9704-e5edaf56f920",
        "colab": {
          "base_uri": "https://localhost:8080/"
        }
      },
      "execution_count": 97,
      "outputs": [
        {
          "output_type": "stream",
          "name": "stdout",
          "text": [
            "dict_items([('Director', ['Q Tarantino', 'C Nolan', 'S Spielberg', 'PT Anderson', 'M Scorsese', 'C Eastwood']), ('Movies', [10, 11, 37, 9, 25, 40]), ('Academy Awards', [7, 11, 3, 3, 20, 4])])\n",
            "dict_keys(['Director', 'Movies', 'Academy Awards'])\n",
            "dict_values([['Q Tarantino', 'C Nolan', 'S Spielberg', 'PT Anderson', 'M Scorsese', 'C Eastwood'], [10, 11, 37, 9, 25, 40], [7, 11, 3, 3, 20, 4]])\n"
          ]
        }
      ]
    },
    {
      "cell_type": "markdown",
      "source": [
        "# Bonus Exercise\n",
        "\n",
        "## Nested Dictionary\n",
        "\n",
        "Create a dictionary with the following properties:\n",
        "\n",
        "- A 'name' key for a manager's name\n",
        "- A 'salary' key for a manager's salary\n",
        "- A 'assistant key for the following dictionary:\n",
        "    - A 'name' key for an assistant's name\n",
        "    - A 'salary' key for an assistant's salary"
      ],
      "metadata": {
        "id": "UBX28RhQJbjx"
      }
    },
    {
      "cell_type": "code",
      "source": [
        "manager = {\n",
        "    'name' : 'Mary',\n",
        "    'salary': 100000,\n",
        "    'assistant': {\n",
        "        'name': 'Aron',\n",
        "        'salary': 90000\n",
        "    }\n",
        "    }\n",
        "print(manager)\n",
        "\n",
        "\n",
        "\n"
      ],
      "metadata": {
        "id": "9hXgP9AMJhjI",
        "outputId": "7a57b2af-1885-4111-d484-b7073e25d976",
        "colab": {
          "base_uri": "https://localhost:8080/"
        }
      },
      "execution_count": 100,
      "outputs": [
        {
          "output_type": "stream",
          "name": "stdout",
          "text": [
            "{'name': 'Mary', 'salary': 100000, 'assistant': {'name': 'Aron', 'salary': 90000}}\n"
          ]
        }
      ]
    },
    {
      "cell_type": "markdown",
      "metadata": {
        "id": "yZHN4uYLJbzo"
      },
      "source": [
        "# Advanced and Future Topics\n",
        "* Control Flows\n",
        "* Functions and Variable scope \n",
        "* Classes/Objects\n",
        "* Modules and Imports\n",
        "* Packages and Libraries\n",
        "* File I/O\n",
        "* Python for Data Analysis\n",
        "* Python for Data Visualiz ation\n",
        "* Error Handling and Exceptions\n",
        "* List Comprehension\n",
        "* Regular Expressions\n",
        "* Database Access\n",
        "* Multithreading\n",
        "\n",
        "# Resources\n",
        "* CEAS Library Python resources - http://guides.libraries.uc.edu/python\n",
        "* Online links & tutorials\n",
        " * Python documentation - https://www.python.org/doc/\n",
        " * Python Programming wiki book - http://en.wikibooks.org/wiki/Python_Programming\n",
        " * Python tutorials - Udemy, Code academy, etc\n",
        " * For success stories - https://www.python.org/about/success\n"
      ]
    },
    {
      "cell_type": "markdown",
      "metadata": {
        "id": "tuk0KYRIJbzo"
      },
      "source": [
        "# $\\;\\;\\;\\;\\;\\;\\;\\;\\;\\;\\;\\;\\;\\;\\;\\;\\;\\;\\;\\;\\;\\;\\;\\;\\;\\;\\;\\;\\;\\;\\;\\;\\;$Questions ??\n",
        "\n",
        "$\\;\\;\\;\\;\\;\\;\\;\\;\\;\\;\\;\\;\\;\\;\\;\\;\\;\\;\\;\\;\\;\\;\\;\\;\\;\\;\\;\\;\\;\\;\\;\\;\\;\\;\\;\\;\\;\\;\\;\\;\\;\\;\\;\\;\\;\\;\\;\\;\\;\\;\\;\\;\\;\\;\\;\\;\\;\\;$**Thank you for attending the workshop !!**\n",
        "\n",
        "\n",
        "$\\;\\;\\;\\;\\;\\;\\;\\;\\;\\;\\;\\;\\;\\;\\;\\;\\;\\;\\;\\;\\;\\;\\;\\;\\;\\;\\;\\;\\;\\;\\;\\;\\;\\;\\;\\;\\;\\;\\;\\;\\;\\;\\;\\;\\;\\;$**Your kind suggestions/feedbacks are more than welcome**"
      ]
    }
  ],
  "metadata": {
    "kernelspec": {
      "display_name": "Python 3",
      "language": "python",
      "name": "python3"
    },
    "language_info": {
      "codemirror_mode": {
        "name": "ipython",
        "version": 3
      },
      "file_extension": ".py",
      "mimetype": "text/x-python",
      "name": "python",
      "nbconvert_exporter": "python",
      "pygments_lexer": "ipython3",
      "version": "3.7.3"
    },
    "colab": {
      "provenance": [],
      "include_colab_link": true
    }
  },
  "nbformat": 4,
  "nbformat_minor": 0
}