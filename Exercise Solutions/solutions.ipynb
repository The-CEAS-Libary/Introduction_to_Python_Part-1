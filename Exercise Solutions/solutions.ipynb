{
 "cells": [
  {
   "cell_type": "markdown",
   "metadata": {},
   "source": [
    "# Exercise 1\n",
    "#### Tip Calculator!!\n",
    "Cost of meal = 54.76\n",
    "<br>\n",
    "Tax = 7.85%\n",
    "<br>\n",
    "Tip = 15%\n",
    "<br>\n",
    "Find tax amount, cost after tax, tip amount, and total cost"
   ]
  },
  {
   "cell_type": "code",
   "execution_count": 1,
   "metadata": {},
   "outputs": [
    {
     "name": "stdout",
     "output_type": "stream",
     "text": [
      "My original meal cost is 54.76\n",
      "Tax amount is:  4.29866\n",
      "Cost after tax is:  59.058659999999996\n",
      "Tip amount is:  8.858799\n",
      "Total cost is:  67.917459\n"
     ]
    }
   ],
   "source": [
    "# Create a variable for cost of meal, tax and tip and assign their values\n",
    "# Note that percentage is not captured in programming languages. Divide by 100 instead. \n",
    "cost_of_meal = 54.76\n",
    "tax = 0.0785\n",
    "tip = 0.15\n",
    "\n",
    "# Calculate tax amount by creating a variable for it and assign it to a formula using the variables for cost of meal and tax\n",
    "tax_amount = tax * cost_of_meal\n",
    "\n",
    "# Calculate cost after tax\n",
    "cost_after_tax = cost_of_meal + tax_amount\n",
    "\n",
    "# Calculate tip amount\n",
    "# Hint: Calculate the tip amount the cost after tax\n",
    "tip_amount = 0.15 * cost_after_tax\n",
    "\n",
    "# Calculate total amount\n",
    "total = cost_after_tax + tip_amount\n",
    "\n",
    "print('My original meal cost is', cost_of_meal)\n",
    "\n",
    "# Follow the example above and print the tax amount\n",
    "print('Tax amount is: ', tax_amount)\n",
    "\n",
    "# Print the cost after tax\n",
    "print('Cost after tax is: ', cost_after_tax)\n",
    "\n",
    "# Print the tip amount\n",
    "print('Tip amount is: ', tip_amount)\n",
    "\n",
    "# Print the total cost of the meal\n",
    "print('Total cost is: ', total)"
   ]
  },
  {
   "cell_type": "markdown",
   "metadata": {},
   "source": [
    "# Bonus Exercise\n",
    "\n",
    "## Nested Dictionary\n",
    "\n",
    "Create a dictionary with the following properties:\n",
    "\n",
    "- A 'name' key for a manager's name\n",
    "- A 'salary' key for a manager's salary\n",
    "- A 'assistant key for the following dictionary:\n",
    "    - A 'name' key for an assistant's name\n",
    "    - A 'salary' key for an assistant's salary"
   ]
  },
  {
   "cell_type": "code",
   "execution_count": null,
   "metadata": {},
   "outputs": [],
   "source": [
    "manager = {\n",
    "    'name' : 'John Smith',\n",
    "    'salary': 100000,\n",
    "    'assistant': {\n",
    "        'name': 'Frank Adams',\n",
    "        'salary': 90000\n",
    "    }\n",
    "}"
   ]
  }
 ],
 "metadata": {
  "kernelspec": {
   "display_name": "Python 3.10.6 64-bit",
   "language": "python",
   "name": "python3"
  },
  "language_info": {
   "codemirror_mode": {
    "name": "ipython",
    "version": 3
   },
   "file_extension": ".py",
   "mimetype": "text/x-python",
   "name": "python",
   "nbconvert_exporter": "python",
   "pygments_lexer": "ipython3",
   "version": "3.10.6"
  },
  "vscode": {
   "interpreter": {
    "hash": "aee8b7b246df8f9039afb4144a1f6fd8d2ca17a180786b69acc140d282b71a49"
   }
  }
 },
 "nbformat": 4,
 "nbformat_minor": 2
}
