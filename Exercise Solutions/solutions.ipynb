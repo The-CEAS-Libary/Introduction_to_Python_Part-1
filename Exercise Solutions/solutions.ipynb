{
 "cells": [
  {
   "cell_type": "markdown",
   "metadata": {},
   "source": [
    "# Exercise 1\n",
    "#### Tip Calculator!!\n",
    "Cost of meal = 54.76\n",
    "<br>\n",
    "Tax = 7.85%\n",
    "<br>\n",
    "Tip = 15%\n",
    "<br>\n",
    "Find tax amount, cost after tax, tip amount, and total cost"
   ]
  },
  {
   "cell_type": "code",
   "execution_count": 1,
   "metadata": {},
   "outputs": [
    {
     "name": "stdout",
     "output_type": "stream",
     "text": [
      "My original meal cost is 54.76\n",
      "Tax amount is:  4.29866\n",
      "Cost after tax is:  59.058659999999996\n",
      "Tip amount is:  8.858799\n",
      "Total cost is:  67.917459\n"
     ]
    }
   ],
   "source": [
    "# Create a variable for cost of meal, tax and tip and assign their values\n",
    "# Note that percentage is not captured in programming languages. Divide by 100 instead. \n",
    "cost_of_meal = 54.76\n",
    "tax = 0.0785\n",
    "tip = 0.15\n",
    "\n",
    "# Calculate tax amount by creating a variable for it and assign it to a formula using the variables for cost of meal and tax\n",
    "tax_amount = tax * cost_of_meal\n",
    "\n",
    "# Calculate cost after tax\n",
    "cost_after_tax = cost_of_meal + tax_amount\n",
    "\n",
    "# Calculate tip amount\n",
    "# Hint: Calculate the tip amount the cost after tax\n",
    "tip_amount = 0.15 * cost_after_tax\n",
    "\n",
    "# Calculate total amount\n",
    "total = cost_after_tax + tip_amount\n",
    "\n",
    "print('My original meal cost is', cost_of_meal)\n",
    "\n",
    "# Follow the example above and print the tax amount\n",
    "print('Tax amount is: ', tax_amount)\n",
    "\n",
    "# Print the cost after tax\n",
    "print('Cost after tax is: ', cost_after_tax)\n",
    "\n",
    "# Print the tip amount\n",
    "print('Tip amount is: ', tip_amount)\n",
    "\n",
    "# Print the total cost of the meal\n",
    "print('Total cost is: ', total)"
   ]
   }
],
 "metadata": {
  "kernelspec": {
   "display_name": "Python 3",
   "language": "python",
   "name": "python3"
  },
  "language_info": {
   "codemirror_mode": {
    "name": "ipython",
    "version": 3
   },
   "file_extension": ".py",
   "mimetype": "text/x-python",
   "name": "python",
   "nbconvert_exporter": "python",
   "pygments_lexer": "ipython3",
   "version": "3.6.5"
  }
 },
 "nbformat": 4,
 "nbformat_minor": 2
}
