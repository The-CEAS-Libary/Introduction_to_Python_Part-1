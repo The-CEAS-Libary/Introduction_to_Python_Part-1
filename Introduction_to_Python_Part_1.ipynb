{
  "cells": [
    {
      "cell_type": "markdown",
      "source": [
        "### **Please use the following sign-in form to fill your details**\n",
        "**[Sign-in Form](https://forms.office.com/r/c7ER2hqjre)**"
      ],
      "metadata": {
        "id": "e4yzAYHZ_eT0"
      }
    },
    {
      "cell_type": "markdown",
      "source": [
        "\n",
        "![MicrosoftTeams-image.png](data:image/png;base64,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)"
      ],
      "metadata": {
        "id": "XpFLv8YPFR_X"
      }
    },
    {
      "cell_type": "markdown",
      "metadata": {
        "id": "flzC3gXsJby4"
      },
      "source": [
        "# Objectives\n",
        "\n",
        "\n",
        "* **Introduction to Python Part I**<br>\n",
        "\n",
        "* **Hands-on**\n",
        " * Syntax\n",
        " * Strings\n",
        " * Lists\n",
        " * Dictionaries\n",
        " * Sets <br>\n",
        "\n",
        "* **Future Topics**<br>\n",
        "\n",
        "* **Resources**"
      ]
    },
    {
      "cell_type": "markdown",
      "metadata": {
        "id": "2F2ZYWa-Jby8"
      },
      "source": [
        "# Introduction\n",
        "* Developed in early 90’s by **Guido Van Rossum**\n",
        "\n",
        "### What is Python\n",
        "* General purpose, \n",
        " * *High Level*\n",
        " * *Structured*\n",
        " * *Interpreted*\n",
        " * *Object-oriented Language*\n",
        "\n",
        "* Simple, Portable, Open source & Powerful\n",
        "\n",
        "### Ways to run Python\n",
        "* Interactive Interpreter (Classic command line interpreter or Python Shell) - Run as a calculator or used to run a python program\n",
        "* Script from command line - Used to run a python program\n",
        "* General purpose Integrated Development Environment (IDE) - Eclipse, Netbeans, etc\n",
        "* Python dedicated IDEs like Pycharm, Spyder, IDLE\n",
        "* Web-based interactive computational environment like Jupyter Notebooks, Google Colaboratory, etc"
      ]
    },
    {
      "cell_type": "markdown",
      "metadata": {
        "id": "kfTgkZkLJby_"
      },
      "source": [
        "# Variables and Data Types\n",
        "\n",
        "### Variables\n",
        "* Stores a piece of data and gives it a specific name\n",
        "* Do not need to specify data type (No Declaration needed)\n",
        "* Equal sign **( = )** is used to assign values to variables"
      ]
    },
    {
      "cell_type": "code",
      "execution_count": null,
      "metadata": {
        "id": "NwPQCHCjJbzA"
      },
      "outputs": [],
      "source": [
        "v = 98"
      ]
    },
    {
      "cell_type": "markdown",
      "metadata": {
        "id": "NXtNn68IJbzC"
      },
      "source": [
        "**' v '** is the variable name\n",
        "<br>\n",
        "**' = '** is the assignment operator\n",
        "<br>\n",
        "**98** is the value\n",
        "\n",
        "#### Variable names\n",
        "* No spaces allowed (Use underscore or init caps, example - 'my_name' or 'myName')\n",
        "* No special symbols or characters like '\"@#%^&()-/\\* except the underscore '_'\n",
        "* Cannot begin with a number but may have a number within the variable name\n",
        "* The python community by convention begin variable names with small letters but caps are allowed anywhere else"
      ]
    },
    {
      "cell_type": "code",
      "execution_count": null,
      "metadata": {
        "id": "q6J2lkC5JbzD"
      },
      "outputs": [],
      "source": [
        "my_name = 'John Smith'"
      ]
    },
    {
      "cell_type": "code",
      "execution_count": null,
      "metadata": {
        "collapsed": true,
        "id": "Vf379bm0JbzE"
      },
      "outputs": [],
      "source": [
        "v_1 = 8\n",
        "v_2 = 9"
      ]
    },
    {
      "cell_type": "markdown",
      "metadata": {
        "id": "ShelRFFaJbzF"
      },
      "source": [
        "#### Using a variable\n",
        "To use a variable, just type out the variable name. \n",
        "<br>\n",
        "See examples below"
      ]
    },
    {
      "cell_type": "code",
      "execution_count": null,
      "metadata": {
        "collapsed": true,
        "id": "hpZCMlK_JbzF"
      },
      "outputs": [],
      "source": [
        "print(my_name)"
      ]
    },
    {
      "cell_type": "code",
      "execution_count": null,
      "metadata": {
        "collapsed": true,
        "id": "WeBvi3jOJbzG"
      },
      "outputs": [],
      "source": [
        "age = v_1 + v_2"
      ]
    },
    {
      "cell_type": "code",
      "execution_count": null,
      "metadata": {
        "collapsed": true,
        "id": "95KLYm_KJbzG"
      },
      "outputs": [],
      "source": [
        "print ('I am', age, 'years old')"
      ]
    },
    {
      "cell_type": "markdown",
      "metadata": {
        "id": "XAjGLtSDJbzH"
      },
      "source": [
        "**<h5><center>Note</center></h5>**\n",
        "\n",
        "\n",
        "**'print'** is a function that displays its arguments (inputs). It can take multiple arguments (inputs) separated by commas '**,**'.\n",
        "<br>\n",
        "We will introduce **functions** later"
      ]
    },
    {
      "cell_type": "markdown",
      "metadata": {
        "id": "lJgYIiVzJbzH"
      },
      "source": [
        "### Data types\n",
        "Data Types are implied. They do not have to be declared\n",
        "* Numeric types - int, float, complex\n",
        "* Boolean - True, False\n",
        "* String\n",
        "* List\n",
        "* Tuple\n",
        "* Dictionary\n",
        "* Set "
      ]
    },
    {
      "cell_type": "markdown",
      "metadata": {
        "id": "9hNbCDmNJbzH"
      },
      "source": [
        "# Math Operators"
      ]
    },
    {
      "cell_type": "markdown",
      "metadata": {
        "id": "0vocR7k6JbzI"
      },
      "source": [
        "#### Addition ( + )"
      ]
    },
    {
      "cell_type": "code",
      "execution_count": null,
      "metadata": {
        "collapsed": true,
        "id": "s77kKUCyJbzI"
      },
      "outputs": [],
      "source": [
        "2+3"
      ]
    },
    {
      "cell_type": "markdown",
      "metadata": {
        "id": "x98C0uC3JbzI"
      },
      "source": [
        "#### Subtraction ( - )"
      ]
    },
    {
      "cell_type": "code",
      "execution_count": null,
      "metadata": {
        "collapsed": true,
        "id": "yZa-N9Q-JbzI"
      },
      "outputs": [],
      "source": [
        "9-3"
      ]
    },
    {
      "cell_type": "markdown",
      "metadata": {
        "id": "0au2KheqJbzJ"
      },
      "source": [
        "#### Multiplication ( * )"
      ]
    },
    {
      "cell_type": "code",
      "execution_count": null,
      "metadata": {
        "collapsed": true,
        "id": "nyvHVkphJbzJ"
      },
      "outputs": [],
      "source": [
        "3*8"
      ]
    },
    {
      "cell_type": "markdown",
      "metadata": {
        "id": "z4xILHRdJbzJ"
      },
      "source": [
        "#### Division( / )"
      ]
    },
    {
      "cell_type": "code",
      "execution_count": null,
      "metadata": {
        "collapsed": true,
        "id": "7d9fu8JmJbzJ"
      },
      "outputs": [],
      "source": [
        "3/2"
      ]
    },
    {
      "cell_type": "markdown",
      "metadata": {
        "id": "0azByzdXJbzK"
      },
      "source": [
        "#### Floor Division ( // )"
      ]
    },
    {
      "cell_type": "code",
      "execution_count": null,
      "metadata": {
        "collapsed": true,
        "id": "TsU9Cxs0JbzK"
      },
      "outputs": [],
      "source": [
        "3//2"
      ]
    },
    {
      "cell_type": "markdown",
      "metadata": {
        "id": "xlUt5OldJbzK"
      },
      "source": [
        "#### Modulus( % )"
      ]
    },
    {
      "cell_type": "code",
      "execution_count": null,
      "metadata": {
        "collapsed": true,
        "id": "rhuRy1AIJbzK"
      },
      "outputs": [],
      "source": [
        "9%5"
      ]
    },
    {
      "cell_type": "markdown",
      "metadata": {
        "id": "Untu_IipJbzK"
      },
      "source": [
        "#### Exponent( ** )"
      ]
    },
    {
      "cell_type": "code",
      "execution_count": null,
      "metadata": {
        "collapsed": true,
        "id": "H-1WTNieJbzK"
      },
      "outputs": [],
      "source": [
        "2**3"
      ]
    },
    {
      "cell_type": "markdown",
      "metadata": {
        "id": "od8pPtXZJbzL"
      },
      "source": [
        "# Comments\n",
        "* Single line commenting symbol is the hash symbol '#'\n",
        "* The interpreter ignores everything after #\n",
        "* Leave comments in your code to make it understandable to other team members and for yourself"
      ]
    },
    {
      "cell_type": "code",
      "execution_count": null,
      "metadata": {
        "collapsed": true,
        "id": "m5gAjgxVJbzL"
      },
      "outputs": [],
      "source": [
        "# This line is ignored"
      ]
    },
    {
      "cell_type": "markdown",
      "metadata": {
        "id": "sBI2YYy_JbzL"
      },
      "source": [
        "* Multi-line - Not supported in Python\n",
        "* Use the # on each line of a multiline comment"
      ]
    },
    {
      "cell_type": "code",
      "execution_count": null,
      "metadata": {
        "collapsed": true,
        "id": "8W6owQ1MJbzL"
      },
      "outputs": [],
      "source": [
        "# This is a multiline comment\n",
        "# This line and the line above are both ignored by the interpreter"
      ]
    },
    {
      "cell_type": "markdown",
      "metadata": {
        "id": "Sgc3ZLqYJbzL"
      },
      "source": [
        "# Exercise 1\n",
        "#### Tip Calculator!!\n",
        "Cost of meal = 54.76\n",
        "<br>\n",
        "Tax = 7.85%\n",
        "<br>\n",
        "Tip = 15%\n",
        "<br>\n",
        "Find the tax amount, cost after the tax, tip amount, and total cost"
      ]
    },
    {
      "cell_type": "code",
      "execution_count": null,
      "metadata": {
        "collapsed": true,
        "id": "g4Cxt7YlJbzL"
      },
      "outputs": [],
      "source": [
        "# Create a variable for cost of meal, tax and tip and assign their values\n",
        "# Note that percentage is not captured in programming languages. Divide by 100 instead. \n",
        "cost_of_meal = 54.76\n",
        "\n",
        "\n",
        "\n",
        "\n",
        "# Calculate tax amount by creating a variable for it and assign it to a formula using the variables for cost of meal and tax\n",
        "\n",
        "\n",
        "# Calculate cost after tax\n",
        "\n",
        "\n",
        "# Calculate tip amount\n",
        "# Hint: Calculate the tip amount the cost after tax\n",
        "\n",
        "\n",
        "# Calculate total amount\n",
        "\n",
        "\n",
        "print('My original meal cost is', cost_of_meal)\n",
        "\n",
        "# Follow the example above and print the tax amount\n",
        "\n",
        "\n",
        "# Print the cost after tax\n",
        "\n",
        "\n",
        "# Print the tip amount\n",
        "\n",
        "\n",
        "# Print the total cost of the meal\n",
        "\n"
      ]
    },
    {
      "cell_type": "markdown",
      "metadata": {
        "id": "LqLwpXewJbzM"
      },
      "source": [
        "# Strings\n",
        "Any strand of all characters on the keyboard put in quotation.\n",
        "#### One line strings - declared in single quotes (' ') or double quotes (\" \")\n",
        "Single and double quotes can be used interchangeably"
      ]
    },
    {
      "cell_type": "code",
      "execution_count": null,
      "metadata": {
        "collapsed": true,
        "id": "ooEaiaP0JbzM"
      },
      "outputs": [],
      "source": [
        "name_1 = 'John Wick'\n",
        "name_2 = \"Dag Heward-Mills\""
      ]
    },
    {
      "cell_type": "code",
      "execution_count": null,
      "metadata": {
        "collapsed": true,
        "id": "ITSgJV5pJbzM"
      },
      "outputs": [],
      "source": [
        "# this is a string and not an integer\n",
        "age = '2'"
      ]
    },
    {
      "cell_type": "code",
      "execution_count": null,
      "metadata": {
        "collapsed": true,
        "id": "TdFySTyTJbzM"
      },
      "outputs": [],
      "source": [
        "# Start with a double quote if you use a single quote in your string\n",
        "f = \"This is Del's pencil\""
      ]
    },
    {
      "cell_type": "code",
      "execution_count": null,
      "metadata": {
        "collapsed": true,
        "id": "uKzilGVSJbzN"
      },
      "outputs": [],
      "source": [
        "# Start with a single quote if you use a double quote in your string\n",
        "f = 'Francis said \"This is my pencil\"'"
      ]
    },
    {
      "cell_type": "code",
      "execution_count": null,
      "metadata": {
        "collapsed": true,
        "id": "jusFlW0CJbzN"
      },
      "outputs": [],
      "source": [
        "print (f)"
      ]
    },
    {
      "cell_type": "markdown",
      "metadata": {
        "id": "ZZMmcko0JbzN"
      },
      "source": [
        "#### Multi-line strings - declared in triple quotes ( \"\"\" \"\"\" or ''' ''' )"
      ]
    },
    {
      "cell_type": "code",
      "execution_count": null,
      "metadata": {
        "collapsed": true,
        "id": "ta_VgcdEJbzN"
      },
      "outputs": [],
      "source": [
        "eg = \"\"\"I am in the CEAS library in \n",
        "Introduction to Python session \"\"\""
      ]
    },
    {
      "cell_type": "code",
      "execution_count": null,
      "metadata": {
        "collapsed": true,
        "id": "iWiB6TZfJbzO"
      },
      "outputs": [],
      "source": [
        "print(eg)"
      ]
    },
    {
      "cell_type": "markdown",
      "metadata": {
        "id": "m-2FaICeJbzP"
      },
      "source": [
        "### String Indexing\n",
        "**Each character can be accessed by using their index starting from index 0**"
      ]
    },
    {
      "cell_type": "code",
      "execution_count": null,
      "metadata": {
        "collapsed": true,
        "id": "s72_bPatJbzR"
      },
      "outputs": [],
      "source": [
        "name = 'Johnson Smith'"
      ]
    },
    {
      "cell_type": "code",
      "execution_count": null,
      "metadata": {
        "collapsed": true,
        "id": "OWe6ConAJbzS"
      },
      "outputs": [],
      "source": [
        "name[0]"
      ]
    },
    {
      "cell_type": "code",
      "execution_count": null,
      "metadata": {
        "collapsed": true,
        "id": "HzLXgB_AJbzS"
      },
      "outputs": [],
      "source": [
        "name[1]"
      ]
    },
    {
      "cell_type": "code",
      "execution_count": null,
      "metadata": {
        "collapsed": true,
        "id": "fpYQDY0dJbzS"
      },
      "outputs": [],
      "source": [
        "name[6]"
      ]
    },
    {
      "cell_type": "code",
      "execution_count": null,
      "metadata": {
        "collapsed": true,
        "id": "V4L_cT3-JbzT"
      },
      "outputs": [],
      "source": [
        "name[12]"
      ]
    },
    {
      "cell_type": "markdown",
      "metadata": {
        "id": "KcCb940cJbzT"
      },
      "source": [
        "**You can start indexing from the right side with negative indexes starting with index -1**"
      ]
    },
    {
      "cell_type": "code",
      "execution_count": null,
      "metadata": {
        "collapsed": true,
        "id": "mbIIXAGcJbzT"
      },
      "outputs": [],
      "source": [
        "name[-1]"
      ]
    },
    {
      "cell_type": "code",
      "execution_count": null,
      "metadata": {
        "collapsed": true,
        "id": "WuOfTkJTJbzT"
      },
      "outputs": [],
      "source": [
        "name[-2]"
      ]
    },
    {
      "cell_type": "code",
      "execution_count": null,
      "metadata": {
        "collapsed": true,
        "id": "TkqDQS_mJbzT"
      },
      "outputs": [],
      "source": [
        "name[-13]"
      ]
    },
    {
      "cell_type": "markdown",
      "metadata": {
        "id": "90x7fnlIJbzT"
      },
      "source": [
        "### Slicing\n",
        "**You can extract a range of characters**\n",
        "<br>\n",
        "Assume a string variable called **'var'**\n",
        "<br>\n",
        "**var[starting index : ending index + 1]**"
      ]
    },
    {
      "cell_type": "code",
      "execution_count": null,
      "metadata": {
        "collapsed": true,
        "id": "_k-KMpMYJbzU"
      },
      "outputs": [],
      "source": [
        "name"
      ]
    },
    {
      "cell_type": "code",
      "execution_count": null,
      "metadata": {
        "collapsed": true,
        "id": "eXJpG5EjJbzU"
      },
      "outputs": [],
      "source": [
        "name[0:6]"
      ]
    },
    {
      "cell_type": "code",
      "execution_count": null,
      "metadata": {
        "collapsed": true,
        "id": "OQtOJutEJbzU"
      },
      "outputs": [],
      "source": [
        "name[7:13]"
      ]
    },
    {
      "cell_type": "code",
      "execution_count": null,
      "metadata": {
        "collapsed": true,
        "id": "GypGTqPDJbzU"
      },
      "outputs": [],
      "source": [
        "name[1:4]"
      ]
    },
    {
      "cell_type": "markdown",
      "metadata": {
        "id": "Ako9162jJbzU"
      },
      "source": [
        "**<h5><center>Note</center></h5>**\n",
        "\n",
        "**Strings are \"IMMUTABLE\"**\n",
        "Once you create a string object, you cannot change a particular string location.\n",
        "<br>\n",
        "**name[6] = 'c'** \n",
        "<br>\n",
        "will result in the error below\n",
        "\n",
        "TypeError                                 Traceback (most recent call last)\n",
        "<br>\n",
        "< ipython-input-44-d47a2608aba2 > in < module >()\n",
        "<br>\n",
        "----> 1 name[6]='-'\n",
        "<br>\n",
        "TypeError: 'str' object does not support item assignment\n"
      ]
    },
    {
      "cell_type": "code",
      "source": [
        "name[6] = 'c'"
      ],
      "metadata": {
        "id": "OpCNU-MSYEp7"
      },
      "execution_count": null,
      "outputs": []
    },
    {
      "cell_type": "markdown",
      "metadata": {
        "id": "VFFrbkSbJbzU"
      },
      "source": [
        "### Some String Functions and Methods\n",
        "\n",
        "**Length of string**"
      ]
    },
    {
      "cell_type": "code",
      "execution_count": null,
      "metadata": {
        "collapsed": true,
        "id": "eXXI-Sz0JbzU"
      },
      "outputs": [],
      "source": [
        "len(name)"
      ]
    },
    {
      "cell_type": "markdown",
      "metadata": {
        "id": "r6TkmPasJbzV"
      },
      "source": [
        "**Convert to string**"
      ]
    },
    {
      "cell_type": "code",
      "execution_count": null,
      "metadata": {
        "collapsed": true,
        "id": "VrBKRYOpJbzV"
      },
      "outputs": [],
      "source": [
        "age = 3"
      ]
    },
    {
      "cell_type": "code",
      "execution_count": null,
      "metadata": {
        "collapsed": true,
        "id": "KgiOJoXeJbzV"
      },
      "outputs": [],
      "source": [
        "str(age)"
      ]
    },
    {
      "cell_type": "markdown",
      "metadata": {
        "id": "Q1083YjaJbzV"
      },
      "source": [
        "**Convert to lower case**"
      ]
    },
    {
      "cell_type": "code",
      "execution_count": null,
      "metadata": {
        "collapsed": true,
        "id": "0iMxtIk3JbzV"
      },
      "outputs": [],
      "source": [
        "name.lower()"
      ]
    },
    {
      "cell_type": "markdown",
      "metadata": {
        "id": "J8d9uFvDJbzV"
      },
      "source": [
        "Convert to upper case"
      ]
    },
    {
      "cell_type": "code",
      "execution_count": null,
      "metadata": {
        "collapsed": true,
        "id": "QXVx-UBKJbzV"
      },
      "outputs": [],
      "source": [
        "name.upper()"
      ]
    },
    {
      "cell_type": "markdown",
      "metadata": {
        "id": "OsCHuF4LJbzV"
      },
      "source": [
        "**Is digit/Is alpha**\n",
        "\n",
        "Output is a Boolean value (True/False)"
      ]
    },
    {
      "cell_type": "code",
      "execution_count": null,
      "metadata": {
        "id": "8PaS-4gRJbzV"
      },
      "outputs": [],
      "source": [
        "name = 'Francis'"
      ]
    },
    {
      "cell_type": "code",
      "execution_count": null,
      "metadata": {
        "id": "L1zQTs6KJbzW"
      },
      "outputs": [],
      "source": [
        "name.isdigit()"
      ]
    },
    {
      "cell_type": "code",
      "execution_count": null,
      "metadata": {
        "id": "V2bvNTsnJbzW"
      },
      "outputs": [],
      "source": [
        "name.isalpha()"
      ]
    },
    {
      "cell_type": "code",
      "execution_count": null,
      "metadata": {
        "id": "HsC8FFxAJbzW"
      },
      "outputs": [],
      "source": [
        "str(age).isdigit()"
      ]
    },
    {
      "cell_type": "markdown",
      "metadata": {
        "id": "KaD4_Yv_JbzW"
      },
      "source": [
        "**Replace characters**"
      ]
    },
    {
      "cell_type": "code",
      "execution_count": null,
      "metadata": {
        "id": "1jgZyg6LJbzW"
      },
      "outputs": [],
      "source": [
        "name.replace('s','k')"
      ]
    },
    {
      "cell_type": "markdown",
      "metadata": {
        "id": "PiLfUubcJbzW"
      },
      "source": [
        "**Split a string using a delimiter character**"
      ]
    },
    {
      "cell_type": "code",
      "execution_count": null,
      "metadata": {
        "collapsed": true,
        "id": "p2rNlVaIJbzW"
      },
      "outputs": [],
      "source": [
        "text = 'I am going to the University of Cincinnati'\n",
        "name = \"Dag Heward-Mills\""
      ]
    },
    {
      "cell_type": "code",
      "execution_count": null,
      "metadata": {
        "collapsed": true,
        "id": "xVJl0euwJbzX"
      },
      "outputs": [],
      "source": [
        "text.split(' ')"
      ]
    },
    {
      "cell_type": "code",
      "execution_count": null,
      "metadata": {
        "collapsed": true,
        "id": "B_ONGe-8JbzX"
      },
      "outputs": [],
      "source": [
        "name.split('-')"
      ]
    },
    {
      "cell_type": "markdown",
      "metadata": {
        "id": "Da35EA9lJbzX"
      },
      "source": [
        "### String Concatenation\n",
        "**Combining of strings is done by using the (+) operator between them**"
      ]
    },
    {
      "cell_type": "code",
      "execution_count": null,
      "metadata": {
        "id": "fT5ABaDwJbzX"
      },
      "outputs": [],
      "source": [
        "string1 = 'My name is '\n",
        "name = 'John'\n",
        "string2 = string1 + name\n",
        "print(string2)"
      ]
    },
    {
      "cell_type": "markdown",
      "metadata": {
        "id": "LViE84F3JbzX"
      },
      "source": [
        "**In order to combine a string with a non-string variable, use str( ) method to convert non-strings to strings**\n",
        "<br>\n",
        "You cannot concatenate a string with a non-string type without converting the non-string type to a string.\n",
        "<br>\n",
        "No conversion will result in error similar tp the error below\n",
        "\n",
        "TypeError                                 Traceback (most recent call last)\n",
        "<br>\n",
        "< ipython-input-77-887da7680fd9 > in < module >( )\n",
        "<br>\n",
        "----> 1 string1 + 9\n",
        "<br>\n",
        "TypeError: must be str, not int"
      ]
    },
    {
      "cell_type": "code",
      "execution_count": null,
      "metadata": {
        "collapsed": true,
        "id": "TiPzbzLbJbzX"
      },
      "outputs": [],
      "source": [
        "string1 = 'My name is '\n",
        "name = 'John '\n",
        "age = 16\n",
        "string2 = string1 + name + 'I am ' + str(age) + ' years old'\n",
        "print(string2)"
      ]
    },
    {
      "cell_type": "markdown",
      "metadata": {
        "id": "Y_Kqnin6JbzY"
      },
      "source": [
        "# Lists\n",
        "* A datatype that can store a collection of different pieces of information as a sequence under a single variable name\n",
        "* **Creating lists** - Put comma separated values within square brackets. Values can be of different data types"
      ]
    },
    {
      "cell_type": "code",
      "execution_count": null,
      "metadata": {
        "collapsed": true,
        "id": "nxGrRsZ0JbzY"
      },
      "outputs": [],
      "source": [
        "list1 = ['physics','astronomy',56.98,'MJ',-9.36]\n",
        "\n",
        "# list within a list\n",
        "list2 = ['chemistry','biology',77.98,[3,4,65],'EE',-56]"
      ]
    },
    {
      "cell_type": "markdown",
      "metadata": {
        "id": "bBa4IqjyJbzZ"
      },
      "source": [
        "### Accessing values via indexing\n",
        "* Same as String objects. \n",
        "* Elements or a range of elements can be accessed by index"
      ]
    },
    {
      "cell_type": "code",
      "execution_count": null,
      "metadata": {
        "collapsed": true,
        "id": "tP4czlz-JbzZ"
      },
      "outputs": [],
      "source": [
        "list1[0]"
      ]
    },
    {
      "cell_type": "code",
      "execution_count": null,
      "metadata": {
        "collapsed": true,
        "id": "XfEITGJkJbzZ"
      },
      "outputs": [],
      "source": [
        "list1[1]"
      ]
    },
    {
      "cell_type": "code",
      "execution_count": null,
      "metadata": {
        "collapsed": true,
        "id": "L46i99SqJbzZ"
      },
      "outputs": [],
      "source": [
        "list1[4]"
      ]
    },
    {
      "cell_type": "code",
      "execution_count": null,
      "metadata": {
        "collapsed": true,
        "id": "Xjz8d1d2Jbza"
      },
      "outputs": [],
      "source": [
        "list1[-1]"
      ]
    },
    {
      "cell_type": "code",
      "execution_count": null,
      "metadata": {
        "collapsed": true,
        "id": "4IFS57fKJbza"
      },
      "outputs": [],
      "source": [
        "list1[-2]"
      ]
    },
    {
      "cell_type": "code",
      "execution_count": null,
      "metadata": {
        "collapsed": true,
        "id": "s70xjd39Jbza"
      },
      "outputs": [],
      "source": [
        "list1[1][3]"
      ]
    },
    {
      "cell_type": "code",
      "execution_count": null,
      "metadata": {
        "collapsed": true,
        "id": "H-9wa56GJbza"
      },
      "outputs": [],
      "source": [
        "list2[3]"
      ]
    },
    {
      "cell_type": "code",
      "execution_count": null,
      "metadata": {
        "collapsed": true,
        "id": "bsjd4qfJJbza"
      },
      "outputs": [],
      "source": [
        "list2[3][2]"
      ]
    },
    {
      "cell_type": "code",
      "execution_count": null,
      "metadata": {
        "collapsed": true,
        "id": "Uzcz2suzJbza"
      },
      "outputs": [],
      "source": [
        "list1[0:4]"
      ]
    },
    {
      "cell_type": "code",
      "execution_count": null,
      "metadata": {
        "collapsed": true,
        "id": "med3bwvdJbza"
      },
      "outputs": [],
      "source": [
        "list2[3:5]"
      ]
    },
    {
      "cell_type": "markdown",
      "metadata": {
        "id": "BV0-aHa2Jbza"
      },
      "source": [
        "### List Concatenation\n",
        "**Can be done by using the (+) operator between two lists**"
      ]
    },
    {
      "cell_type": "code",
      "execution_count": null,
      "metadata": {
        "collapsed": true,
        "id": "Qd5xjW-tJbzb"
      },
      "outputs": [],
      "source": [
        "[1,2,3] + [5,6,7]"
      ]
    },
    {
      "cell_type": "code",
      "execution_count": null,
      "metadata": {
        "collapsed": true,
        "id": "sOFgdNBcJbzb"
      },
      "outputs": [],
      "source": [
        "list1 + list2"
      ]
    },
    {
      "cell_type": "markdown",
      "metadata": {
        "id": "ngYx05I2Jbzb"
      },
      "source": [
        "### Some List Functions and Methods\n",
        "\n",
        "**Length of a list**"
      ]
    },
    {
      "cell_type": "code",
      "execution_count": null,
      "metadata": {
        "collapsed": true,
        "id": "BOKHMpykJbzb"
      },
      "outputs": [],
      "source": [
        "len(list1)"
      ]
    },
    {
      "cell_type": "code",
      "execution_count": null,
      "metadata": {
        "collapsed": true,
        "id": "VbNHANviJbzb"
      },
      "outputs": [],
      "source": [
        "len(list2)"
      ]
    },
    {
      "cell_type": "markdown",
      "metadata": {
        "id": "uC1TuokvJbzb"
      },
      "source": [
        "**Maximum/Minimum value**"
      ]
    },
    {
      "cell_type": "code",
      "execution_count": null,
      "metadata": {
        "collapsed": true,
        "id": "n7CE5GjEJbzb"
      },
      "outputs": [],
      "source": [
        "list3 = [3,4,67,2,1] \n",
        "list4 = ['3','4','67','2','1','four','three']"
      ]
    },
    {
      "cell_type": "code",
      "execution_count": null,
      "metadata": {
        "collapsed": true,
        "id": "HbKf4hFyJbzb"
      },
      "outputs": [],
      "source": [
        "max(list3)"
      ]
    },
    {
      "cell_type": "code",
      "execution_count": null,
      "metadata": {
        "collapsed": true,
        "id": "AWZIhNfDJbzc"
      },
      "outputs": [],
      "source": [
        "min(list3)"
      ]
    },
    {
      "cell_type": "markdown",
      "metadata": {
        "id": "yfxr7_gxJbzc"
      },
      "source": [
        "**Append object to list**"
      ]
    },
    {
      "cell_type": "code",
      "execution_count": null,
      "metadata": {
        "collapsed": true,
        "id": "I4u9PlxuJbzc"
      },
      "outputs": [],
      "source": [
        "list4.append('two')\n",
        "list4.append('three')\n",
        "list4"
      ]
    },
    {
      "cell_type": "markdown",
      "metadata": {
        "id": "nIGTMS03Jbzc"
      },
      "source": [
        "**Frequency of object**"
      ]
    },
    {
      "cell_type": "code",
      "execution_count": null,
      "metadata": {
        "collapsed": true,
        "id": "qR06JMjVJbzc"
      },
      "outputs": [],
      "source": [
        "list4.count('three')"
      ]
    },
    {
      "cell_type": "markdown",
      "metadata": {
        "id": "zaf1MPiGJbzc"
      },
      "source": [
        "**Return index**"
      ]
    },
    {
      "cell_type": "code",
      "execution_count": null,
      "metadata": {
        "collapsed": true,
        "id": "feot5GA4Jbzd"
      },
      "outputs": [],
      "source": [
        "list4.index('1')"
      ]
    },
    {
      "cell_type": "markdown",
      "metadata": {
        "id": "4PtLWHVmJbzd"
      },
      "source": [
        "**Insert object**"
      ]
    },
    {
      "cell_type": "code",
      "execution_count": null,
      "metadata": {
        "collapsed": true,
        "id": "MDNpjJhLJbzd"
      },
      "outputs": [],
      "source": [
        "list4.insert(3,56)\n",
        "list4"
      ]
    },
    {
      "cell_type": "markdown",
      "metadata": {
        "id": "libxtAQQJbzd"
      },
      "source": [
        "**Delete object**\n",
        "\n",
        "*By Index position*"
      ]
    },
    {
      "cell_type": "code",
      "execution_count": null,
      "metadata": {
        "collapsed": true,
        "id": "W4BWqPgaJbzd"
      },
      "outputs": [],
      "source": [
        "list4.pop(3)"
      ]
    },
    {
      "cell_type": "code",
      "execution_count": null,
      "metadata": {
        "collapsed": true,
        "id": "c_vM_UmwJbzd"
      },
      "outputs": [],
      "source": [
        "list4"
      ]
    },
    {
      "cell_type": "markdown",
      "metadata": {
        "id": "q2t8pQiZJbzd"
      },
      "source": [
        "*By element referencing*"
      ]
    },
    {
      "cell_type": "code",
      "execution_count": null,
      "metadata": {
        "collapsed": true,
        "id": "kahBxey0Jbzd"
      },
      "outputs": [],
      "source": [
        "list4.remove('67')"
      ]
    },
    {
      "cell_type": "code",
      "execution_count": null,
      "metadata": {
        "collapsed": true,
        "id": "NsFUfNEXJbze"
      },
      "outputs": [],
      "source": [
        "list4"
      ]
    },
    {
      "cell_type": "markdown",
      "metadata": {
        "id": "CBkmFtBJJbzf"
      },
      "source": [
        "**Reverse the list**"
      ]
    },
    {
      "cell_type": "code",
      "execution_count": null,
      "metadata": {
        "collapsed": true,
        "id": "iX6vgMxzJbzf"
      },
      "outputs": [],
      "source": [
        "list4.reverse()\n",
        "list4"
      ]
    },
    {
      "cell_type": "markdown",
      "metadata": {
        "id": "0ESz6kfEJbzf"
      },
      "source": [
        "**Sort the list (natural order)**"
      ]
    },
    {
      "cell_type": "code",
      "execution_count": null,
      "metadata": {
        "collapsed": true,
        "id": "_6uy70jwJbzg"
      },
      "outputs": [],
      "source": [
        "list4.sort()\n",
        "list4"
      ]
    },
    {
      "cell_type": "markdown",
      "metadata": {
        "id": "iUL8almkJbzg"
      },
      "source": [
        "**<h5><center>Note</center></h5>**\n",
        "\n",
        "**Lists are \"MUTABLE\"**"
      ]
    },
    {
      "cell_type": "code",
      "execution_count": null,
      "metadata": {
        "collapsed": true,
        "id": "hfW2_6z-Jbzg"
      },
      "outputs": [],
      "source": [
        "list4[5] = 5\n",
        "list4"
      ]
    },
    {
      "cell_type": "markdown",
      "metadata": {
        "id": "ga5U5wBoJbzg"
      },
      "source": [
        "# Tuples\n",
        "**Tuples are sequences, just like lists except**\n",
        "* Tuples are immutable - cannot be changed or updated like lists\n",
        "* Tuples use parentheses ( ), whereas lists use square brackets [ ]"
      ]
    },
    {
      "cell_type": "code",
      "execution_count": null,
      "metadata": {
        "collapsed": true,
        "id": "0I0bWa65Jbzh"
      },
      "outputs": [],
      "source": [
        "tup = (3,4,67,2,1)"
      ]
    },
    {
      "cell_type": "markdown",
      "metadata": {
        "id": "7qsr7g5BJbzh"
      },
      "source": [
        "**tup[2] = 8**\n",
        "<br>\n",
        "will result in the error below\n",
        "\n",
        "TypeError                                 Traceback (most recent call last)\n",
        "<br>\n",
        "< ipython-input-177-256383ac5724 > in < module >()\n",
        "<br>\n",
        "----> 1 tup[2] = 8\n",
        "<br>\n",
        "TypeError: 'tuple' object does not support item assignment"
      ]
    },
    {
      "cell_type": "markdown",
      "metadata": {
        "id": "nlurc852Jbzh"
      },
      "source": [
        "# Dictionary"
      ]
    },
    {
      "cell_type": "markdown",
      "metadata": {
        "id": "z_qbuJzHJbzh"
      },
      "source": [
        "* Similar to a list except values are accessed by looking up a **key** instead of an index\n",
        "* A key can be a string or number\n",
        "* **Creating dictionaries** - **key-value** pairs are separated by colons (**:**), items are separated by commas (**,**) and everything is enclosed in curly braces { }"
      ]
    },
    {
      "cell_type": "code",
      "execution_count": null,
      "metadata": {
        "id": "rxCSq6bqJbzh"
      },
      "outputs": [],
      "source": [
        "dict1 = {\"name\":\"Daniel\",\"age\":23,\"degree\":\"MS\"}\n",
        "dict2 = {'name':'Francis','age':60,'job':'Car designer','brand':'Jaguar','worked-for':['Ford','TWR','Aston Martin']}"
      ]
    },
    {
      "cell_type": "markdown",
      "metadata": {
        "id": "UC47xYNJJbzh"
      },
      "source": [
        "* **Accessing values**"
      ]
    },
    {
      "cell_type": "code",
      "execution_count": null,
      "metadata": {
        "collapsed": true,
        "id": "QpPDTJJgJbzi"
      },
      "outputs": [],
      "source": [
        "dict1['age']"
      ]
    },
    {
      "cell_type": "code",
      "execution_count": null,
      "metadata": {
        "collapsed": true,
        "id": "Lhu2QTaJJbzi"
      },
      "outputs": [],
      "source": [
        "dict2['worked-for']"
      ]
    },
    {
      "cell_type": "code",
      "execution_count": null,
      "metadata": {
        "collapsed": true,
        "id": "0vceauJ_Jbzi"
      },
      "outputs": [],
      "source": [
        "dict2['worked-for'][1]"
      ]
    },
    {
      "cell_type": "markdown",
      "metadata": {
        "id": "HPGSJgpgJbzi"
      },
      "source": [
        "* **Updating dictionary** - Dictionaries are MUTABLE. \n",
        "<br>\n",
        "  You may **modify an existing entry** and **add new entry**"
      ]
    },
    {
      "cell_type": "code",
      "execution_count": null,
      "metadata": {
        "collapsed": true,
        "id": "2s-rJtlFJbzi"
      },
      "outputs": [],
      "source": [
        "dict1['subjects'] = [\"OS\",'DBMS','Artificial Intelligence']"
      ]
    },
    {
      "cell_type": "code",
      "execution_count": null,
      "metadata": {
        "collapsed": true,
        "id": "GNY-Iu1vJbzi"
      },
      "outputs": [],
      "source": [
        "dict1"
      ]
    },
    {
      "cell_type": "code",
      "execution_count": null,
      "metadata": {
        "collapsed": true,
        "id": "CNJaI2UdJbzj"
      },
      "outputs": [],
      "source": [
        "dict1['degree']='Master of Science'"
      ]
    },
    {
      "cell_type": "code",
      "execution_count": null,
      "metadata": {
        "collapsed": true,
        "id": "P5PiCM0RJbzj"
      },
      "outputs": [],
      "source": [
        "dict1"
      ]
    },
    {
      "cell_type": "markdown",
      "metadata": {
        "id": "Ri0LbB_2Jbzj"
      },
      "source": [
        "### Some Dictionary functions and Methods\n",
        "**Length of Dictionary**"
      ]
    },
    {
      "cell_type": "code",
      "execution_count": null,
      "metadata": {
        "collapsed": true,
        "id": "W7JZ5gNdJbzj"
      },
      "outputs": [],
      "source": [
        "len(dict1)"
      ]
    },
    {
      "cell_type": "markdown",
      "metadata": {
        "id": "Y5dYpeWQJbzj"
      },
      "source": [
        "**Return value with get method**"
      ]
    },
    {
      "cell_type": "code",
      "execution_count": null,
      "metadata": {
        "collapsed": true,
        "id": "BDmVib-kJbzk"
      },
      "outputs": [],
      "source": [
        "dict1.get('name')"
      ]
    },
    {
      "cell_type": "markdown",
      "metadata": {
        "id": "HK0otsWwJbzk"
      },
      "source": [
        "**List of key-value pairs**"
      ]
    },
    {
      "cell_type": "code",
      "execution_count": null,
      "metadata": {
        "collapsed": true,
        "id": "I7lEpCQIJbzn"
      },
      "outputs": [],
      "source": [
        "dict1.items()"
      ]
    },
    {
      "cell_type": "markdown",
      "metadata": {
        "id": "SAy05kDQJbzn"
      },
      "source": [
        "**List of keys**"
      ]
    },
    {
      "cell_type": "code",
      "execution_count": null,
      "metadata": {
        "collapsed": true,
        "id": "kAGTVOC3Jbzn"
      },
      "outputs": [],
      "source": [
        "dict1.keys()"
      ]
    },
    {
      "cell_type": "markdown",
      "metadata": {
        "id": "4HD5pUmDJbzn"
      },
      "source": [
        "**List of values**"
      ]
    },
    {
      "cell_type": "code",
      "execution_count": null,
      "metadata": {
        "collapsed": true,
        "id": "Kfc7oLWVJbzn"
      },
      "outputs": [],
      "source": [
        "dict1.values()"
      ]
    },
    {
      "cell_type": "markdown",
      "metadata": {
        "id": "FStAtNEfJbzo"
      },
      "source": [
        "# Sets\n",
        "\n",
        "* A set is an unordered, unindexed collection of data\n",
        "* Sets are defined using '{ }'\n",
        "* Returns only unique values, no duplicates\n",
        "* Sets are mutable"
      ]
    },
    {
      "cell_type": "code",
      "execution_count": null,
      "metadata": {
        "id": "_EdvkpxDJbzo"
      },
      "outputs": [],
      "source": [
        "tech = {'google','amazon','apple','tesla','microsoft','apple', 'google'}\n",
        "tech"
      ]
    },
    {
      "cell_type": "markdown",
      "source": [
        "## **Exercise 2**\n",
        "\n",
        "#### **(Strings, Lists, and Dictionaries)**\n",
        "*   Create a variable with the string value - **'The quick brown fox jumps over a lazy dog'** <br>\n",
        "    * Print the length of this string variable\n",
        "    * **'Split'** the string using **'  '** (space character) and assign this operation to a new variable. Print the length of the new variable\n",
        "    * Find the middle element of the sequence in new variable and return its value\n",
        "    * **'Sort'** the elements of the new variable and **'append'** a new string value (a word/more than a word) \n",
        "    * **'Join'** the split strings (in the new variable) with a space character and print this operation (**Hint: ' '.join(variable_name)**)\n",
        "\n",
        "\n",
        "\n",
        "\n",
        "\n"
      ],
      "metadata": {
        "id": "HY2I6gLsT7eh"
      }
    },
    {
      "cell_type": "code",
      "source": [
        "# Enter your code here\n",
        "\n",
        "\n",
        "\n",
        "\n",
        "\n",
        "\n",
        "\n",
        "\n"
      ],
      "metadata": {
        "id": "zYOC6J9ET_mS"
      },
      "execution_count": null,
      "outputs": []
    },
    {
      "cell_type": "markdown",
      "source": [
        "*   Create a dictionary from the following table. (Column Name - Keys, Corresponding Data - Values)\n",
        "  * Return **'keys'** and **'values'** separately\n",
        "\n",
        "\n",
        ">|Director | Movies | Academy Awards |\n",
        "|------|-----|-----------|\n",
        "| Q Tarantino    |<center> 10 |<center> 7  |\n",
        "| C Nolan   |<center> 11 |<center>11 |\n",
        "| S Spielberg    |<center> 37 |<center>3  |\n",
        "| PT Anderson    |<center> 9 |<center>3  |\n",
        "| M Scorsese\t   | <center>25 |<center>20 |\n",
        "| C Eastwood | <center>40 |<center>4 |"
      ],
      "metadata": {
        "id": "UCkNoyOQUKhR"
      }
    },
    {
      "cell_type": "code",
      "source": [
        "# Enter your code here\n",
        "\n",
        "\n",
        "\n",
        "\n",
        "\n",
        "\n"
      ],
      "metadata": {
        "id": "5Sthe8F2UJhZ"
      },
      "execution_count": null,
      "outputs": []
    },
    {
      "cell_type": "markdown",
      "source": [
        "# Bonus Exercise\n",
        "\n",
        "## Nested Dictionary\n",
        "\n",
        "Create a dictionary with the following properties:\n",
        "\n",
        "- A 'name' key for a manager's name\n",
        "- A 'salary' key for a manager's salary\n",
        "- A 'assistant key for the following dictionary:\n",
        "    - A 'name' key for an assistant's name\n",
        "    - A 'salary' key for an assistant's salary"
      ],
      "metadata": {
        "id": "UBX28RhQJbjx"
      }
    },
    {
      "cell_type": "code",
      "source": [
        "manager = {}\n",
        "\n",
        "\n",
        "\n"
      ],
      "metadata": {
        "id": "9hXgP9AMJhjI"
      },
      "execution_count": null,
      "outputs": []
    },
    {
      "cell_type": "markdown",
      "metadata": {
        "id": "yZHN4uYLJbzo"
      },
      "source": [
        "# Advanced and Future Topics\n",
        "* Control Flows\n",
        "* Functions and Variable scope \n",
        "* Classes/Objects\n",
        "* Modules and Imports\n",
        "* Packages and Libraries\n",
        "* File I/O\n",
        "* Python for Data Analysis\n",
        "* Python for Data Visualiz ation\n",
        "* Error Handling and Exceptions\n",
        "* List Comprehension\n",
        "* Regular Expressions\n",
        "* Database Access\n",
        "* Multithreading\n",
        "\n",
        "# Resources\n",
        "* CEAS Library Python resources - http://guides.libraries.uc.edu/python\n",
        "* Online links & tutorials\n",
        " * Python documentation - https://www.python.org/doc/\n",
        " * Python Programming wiki book - http://en.wikibooks.org/wiki/Python_Programming\n",
        " * Python tutorials - Udemy, Code academy, etc\n",
        " * For success stories - https://www.python.org/about/success\n"
      ]
    },
    {
      "cell_type": "markdown",
      "metadata": {
        "id": "tuk0KYRIJbzo"
      },
      "source": [
        "# $\\;\\;\\;\\;\\;\\;\\;\\;\\;\\;\\;\\;\\;\\;\\;\\;\\;\\;\\;\\;\\;\\;\\;\\;\\;\\;\\;\\;\\;\\;\\;\\;\\;$Questions ??\n",
        "\n",
        "$\\;\\;\\;\\;\\;\\;\\;\\;\\;\\;\\;\\;\\;\\;\\;\\;\\;\\;\\;\\;\\;\\;\\;\\;\\;\\;\\;\\;\\;\\;\\;\\;\\;\\;\\;\\;\\;\\;\\;\\;\\;\\;\\;\\;\\;\\;\\;\\;\\;\\;\\;\\;\\;\\;\\;\\;\\;\\;$**Thank you for attending the workshop !!**\n",
        "\n",
        "\n",
        "$\\;\\;\\;\\;\\;\\;\\;\\;\\;\\;\\;\\;\\;\\;\\;\\;\\;\\;\\;\\;\\;\\;\\;\\;\\;\\;\\;\\;\\;\\;\\;\\;\\;\\;\\;\\;\\;\\;\\;\\;\\;\\;\\;\\;\\;\\;$**Your kind suggestions/feedbacks are more than welcome**"
      ]
    }
  ],
  "metadata": {
    "kernelspec": {
      "display_name": "Python 3",
      "language": "python",
      "name": "python3"
    },
    "language_info": {
      "codemirror_mode": {
        "name": "ipython",
        "version": 3
      },
      "file_extension": ".py",
      "mimetype": "text/x-python",
      "name": "python",
      "nbconvert_exporter": "python",
      "pygments_lexer": "ipython3",
      "version": "3.7.3"
    },
    "colab": {
      "provenance": []
    }
  },
  "nbformat": 4,
  "nbformat_minor": 0
}
